{
 "cells": [
  {
   "cell_type": "markdown",
   "id": "bd435f4c",
   "metadata": {
    "_cell_guid": "0795ef2c-2b87-4f5d-92de-6fbc08797276",
    "_uuid": "1e3259a5-893d-4cb8-882f-ce5a94f2f068",
    "papermill": {
     "duration": 0.007912,
     "end_time": "2024-05-30T18:31:35.003229",
     "exception": false,
     "start_time": "2024-05-30T18:31:34.995317",
     "status": "completed"
    },
    "tags": []
   },
   "source": [
    "# Mental Health Exploratory Data Analysis in Python\n",
    "\n",
    "This **[Mental Health Dataset](https://www.kaggle.com/datasets/bhavikjikadara/mental-health-dataset)** is a Real-World dataset that contains a variety of features related to text analysis, sentiment analysis, and psychological indicators, likely derived from posts or text data. These are the columns `Timestamp`, `Gender`,`Country`, `Occupation`, `self_employed`, `family_history`, `treatment`,`Days_Indoors`, `Growing_Stress`, `Changes_Habits`, `Mental_Health_History`, `Mood_Swings`, `Coping_Struggles`, `Work_Interest`, `Social_Weakness`, `mental_health_interview`, `care_options`\n",
    "\n",
    "Numerous analyses can be done using this dataset. I will focus on the following:\n",
    "\n",
    "1. Gender Distribution in Mental Health Data by Country\n",
    "2. Gender Distribution and Growing Stress: A Look at Different Occupations\n",
    "3. Relationship Between Mental Health History, Growing Stress and Treatment Seeking Among Students by Country\n",
    "4. Treatment-Seeking Behaviour: A Comparative Analysis of Men and Women"
   ]
  },
  {
   "cell_type": "code",
   "execution_count": 1,
   "id": "0f44d6df",
   "metadata": {
    "_cell_guid": "e317bbc1-994e-4aff-bf80-9203f62112af",
    "_uuid": "fec4b0d2-6331-4928-a7fa-31994c83d285",
    "collapsed": false,
    "execution": {
     "iopub.execute_input": "2024-05-30T18:31:35.021880Z",
     "iopub.status.busy": "2024-05-30T18:31:35.021432Z",
     "iopub.status.idle": "2024-05-30T18:31:37.523781Z",
     "shell.execute_reply": "2024-05-30T18:31:37.522721Z"
    },
    "jupyter": {
     "outputs_hidden": false
    },
    "papermill": {
     "duration": 2.515746,
     "end_time": "2024-05-30T18:31:37.526617",
     "exception": false,
     "start_time": "2024-05-30T18:31:35.010871",
     "status": "completed"
    },
    "tags": []
   },
   "outputs": [],
   "source": [
    "# Import libraries\n",
    "import numpy as np\n",
    "import pandas as pd\n",
    "import matplotlib.pyplot as plt\n",
    "import seaborn as sns"
   ]
  },
  {
   "cell_type": "code",
   "execution_count": 2,
   "id": "4c0141dd",
   "metadata": {
    "_cell_guid": "d12f593d-f4b5-4a8f-8b10-8df6ba61c446",
    "_uuid": "e2ecc2d3-ed4a-4526-944b-f816335d27e3",
    "collapsed": false,
    "execution": {
     "iopub.execute_input": "2024-05-30T18:31:37.544138Z",
     "iopub.status.busy": "2024-05-30T18:31:37.543603Z",
     "iopub.status.idle": "2024-05-30T18:31:38.695292Z",
     "shell.execute_reply": "2024-05-30T18:31:38.694011Z"
    },
    "jupyter": {
     "outputs_hidden": false
    },
    "papermill": {
     "duration": 1.163029,
     "end_time": "2024-05-30T18:31:38.697791",
     "exception": false,
     "start_time": "2024-05-30T18:31:37.534762",
     "status": "completed"
    },
    "tags": []
   },
   "outputs": [
    {
     "data": {
      "text/html": [
       "<div>\n",
       "<style scoped>\n",
       "    .dataframe tbody tr th:only-of-type {\n",
       "        vertical-align: middle;\n",
       "    }\n",
       "\n",
       "    .dataframe tbody tr th {\n",
       "        vertical-align: top;\n",
       "    }\n",
       "\n",
       "    .dataframe thead th {\n",
       "        text-align: right;\n",
       "    }\n",
       "</style>\n",
       "<table border=\"1\" class=\"dataframe\">\n",
       "  <thead>\n",
       "    <tr style=\"text-align: right;\">\n",
       "      <th></th>\n",
       "      <th>Timestamp</th>\n",
       "      <th>Gender</th>\n",
       "      <th>Country</th>\n",
       "      <th>Occupation</th>\n",
       "      <th>self_employed</th>\n",
       "      <th>family_history</th>\n",
       "      <th>treatment</th>\n",
       "      <th>Days_Indoors</th>\n",
       "      <th>Growing_Stress</th>\n",
       "      <th>Changes_Habits</th>\n",
       "      <th>Mental_Health_History</th>\n",
       "      <th>Mood_Swings</th>\n",
       "      <th>Coping_Struggles</th>\n",
       "      <th>Work_Interest</th>\n",
       "      <th>Social_Weakness</th>\n",
       "      <th>mental_health_interview</th>\n",
       "      <th>care_options</th>\n",
       "    </tr>\n",
       "  </thead>\n",
       "  <tbody>\n",
       "    <tr>\n",
       "      <th>0</th>\n",
       "      <td>8/27/2014 11:29</td>\n",
       "      <td>Female</td>\n",
       "      <td>United States</td>\n",
       "      <td>Corporate</td>\n",
       "      <td>NaN</td>\n",
       "      <td>No</td>\n",
       "      <td>Yes</td>\n",
       "      <td>1-14 days</td>\n",
       "      <td>Yes</td>\n",
       "      <td>No</td>\n",
       "      <td>Yes</td>\n",
       "      <td>Medium</td>\n",
       "      <td>No</td>\n",
       "      <td>No</td>\n",
       "      <td>Yes</td>\n",
       "      <td>No</td>\n",
       "      <td>Not sure</td>\n",
       "    </tr>\n",
       "    <tr>\n",
       "      <th>1</th>\n",
       "      <td>8/27/2014 11:31</td>\n",
       "      <td>Female</td>\n",
       "      <td>United States</td>\n",
       "      <td>Corporate</td>\n",
       "      <td>NaN</td>\n",
       "      <td>Yes</td>\n",
       "      <td>Yes</td>\n",
       "      <td>1-14 days</td>\n",
       "      <td>Yes</td>\n",
       "      <td>No</td>\n",
       "      <td>Yes</td>\n",
       "      <td>Medium</td>\n",
       "      <td>No</td>\n",
       "      <td>No</td>\n",
       "      <td>Yes</td>\n",
       "      <td>No</td>\n",
       "      <td>No</td>\n",
       "    </tr>\n",
       "    <tr>\n",
       "      <th>2</th>\n",
       "      <td>8/27/2014 11:32</td>\n",
       "      <td>Female</td>\n",
       "      <td>United States</td>\n",
       "      <td>Corporate</td>\n",
       "      <td>NaN</td>\n",
       "      <td>Yes</td>\n",
       "      <td>Yes</td>\n",
       "      <td>1-14 days</td>\n",
       "      <td>Yes</td>\n",
       "      <td>No</td>\n",
       "      <td>Yes</td>\n",
       "      <td>Medium</td>\n",
       "      <td>No</td>\n",
       "      <td>No</td>\n",
       "      <td>Yes</td>\n",
       "      <td>No</td>\n",
       "      <td>Yes</td>\n",
       "    </tr>\n",
       "    <tr>\n",
       "      <th>3</th>\n",
       "      <td>8/27/2014 11:37</td>\n",
       "      <td>Female</td>\n",
       "      <td>United States</td>\n",
       "      <td>Corporate</td>\n",
       "      <td>No</td>\n",
       "      <td>Yes</td>\n",
       "      <td>Yes</td>\n",
       "      <td>1-14 days</td>\n",
       "      <td>Yes</td>\n",
       "      <td>No</td>\n",
       "      <td>Yes</td>\n",
       "      <td>Medium</td>\n",
       "      <td>No</td>\n",
       "      <td>No</td>\n",
       "      <td>Yes</td>\n",
       "      <td>Maybe</td>\n",
       "      <td>Yes</td>\n",
       "    </tr>\n",
       "    <tr>\n",
       "      <th>4</th>\n",
       "      <td>8/27/2014 11:43</td>\n",
       "      <td>Female</td>\n",
       "      <td>United States</td>\n",
       "      <td>Corporate</td>\n",
       "      <td>No</td>\n",
       "      <td>Yes</td>\n",
       "      <td>Yes</td>\n",
       "      <td>1-14 days</td>\n",
       "      <td>Yes</td>\n",
       "      <td>No</td>\n",
       "      <td>Yes</td>\n",
       "      <td>Medium</td>\n",
       "      <td>No</td>\n",
       "      <td>No</td>\n",
       "      <td>Yes</td>\n",
       "      <td>No</td>\n",
       "      <td>Yes</td>\n",
       "    </tr>\n",
       "  </tbody>\n",
       "</table>\n",
       "</div>"
      ],
      "text/plain": [
       "         Timestamp  Gender        Country Occupation self_employed  \\\n",
       "0  8/27/2014 11:29  Female  United States  Corporate           NaN   \n",
       "1  8/27/2014 11:31  Female  United States  Corporate           NaN   \n",
       "2  8/27/2014 11:32  Female  United States  Corporate           NaN   \n",
       "3  8/27/2014 11:37  Female  United States  Corporate            No   \n",
       "4  8/27/2014 11:43  Female  United States  Corporate            No   \n",
       "\n",
       "  family_history treatment Days_Indoors Growing_Stress Changes_Habits  \\\n",
       "0             No       Yes    1-14 days            Yes             No   \n",
       "1            Yes       Yes    1-14 days            Yes             No   \n",
       "2            Yes       Yes    1-14 days            Yes             No   \n",
       "3            Yes       Yes    1-14 days            Yes             No   \n",
       "4            Yes       Yes    1-14 days            Yes             No   \n",
       "\n",
       "  Mental_Health_History Mood_Swings Coping_Struggles Work_Interest  \\\n",
       "0                   Yes      Medium               No            No   \n",
       "1                   Yes      Medium               No            No   \n",
       "2                   Yes      Medium               No            No   \n",
       "3                   Yes      Medium               No            No   \n",
       "4                   Yes      Medium               No            No   \n",
       "\n",
       "  Social_Weakness mental_health_interview care_options  \n",
       "0             Yes                      No     Not sure  \n",
       "1             Yes                      No           No  \n",
       "2             Yes                      No          Yes  \n",
       "3             Yes                   Maybe          Yes  \n",
       "4             Yes                      No          Yes  "
      ]
     },
     "execution_count": 2,
     "metadata": {},
     "output_type": "execute_result"
    }
   ],
   "source": [
    "# Load the dataset\n",
    "mental_data = pd.read_csv('/kaggle/input/mental-health-dataset/Mental Health Dataset.csv')\n",
    "\n",
    "df = mental_data.copy()  # make a copy of the dataset\n",
    "df.head()"
   ]
  },
  {
   "cell_type": "markdown",
   "id": "8de00474",
   "metadata": {
    "_cell_guid": "0cdcdb36-6874-4d35-8fd5-011f6d3b325c",
    "_uuid": "ad82df72-c348-4312-a9b2-afab263321e0",
    "papermill": {
     "duration": 0.008376,
     "end_time": "2024-05-30T18:31:38.714381",
     "exception": false,
     "start_time": "2024-05-30T18:31:38.706005",
     "status": "completed"
    },
    "tags": []
   },
   "source": [
    "# Data Cleaning"
   ]
  },
  {
   "cell_type": "code",
   "execution_count": 3,
   "id": "7ab98255",
   "metadata": {
    "_cell_guid": "35baf1b4-c0b1-4ecf-b8c3-ddd1c3103210",
    "_uuid": "8eac6043-a01a-42c6-81f2-04be1b29524d",
    "collapsed": false,
    "execution": {
     "iopub.execute_input": "2024-05-30T18:31:38.735393Z",
     "iopub.status.busy": "2024-05-30T18:31:38.734155Z",
     "iopub.status.idle": "2024-05-30T18:31:38.993497Z",
     "shell.execute_reply": "2024-05-30T18:31:38.992548Z"
    },
    "jupyter": {
     "outputs_hidden": false
    },
    "papermill": {
     "duration": 0.272477,
     "end_time": "2024-05-30T18:31:38.996882",
     "exception": false,
     "start_time": "2024-05-30T18:31:38.724405",
     "status": "completed"
    },
    "tags": []
   },
   "outputs": [
    {
     "name": "stdout",
     "output_type": "stream",
     "text": [
      "<class 'pandas.core.frame.DataFrame'>\n",
      "RangeIndex: 292364 entries, 0 to 292363\n",
      "Data columns (total 17 columns):\n",
      " #   Column                   Non-Null Count   Dtype \n",
      "---  ------                   --------------   ----- \n",
      " 0   Timestamp                292364 non-null  object\n",
      " 1   Gender                   292364 non-null  object\n",
      " 2   Country                  292364 non-null  object\n",
      " 3   Occupation               292364 non-null  object\n",
      " 4   self_employed            287162 non-null  object\n",
      " 5   family_history           292364 non-null  object\n",
      " 6   treatment                292364 non-null  object\n",
      " 7   Days_Indoors             292364 non-null  object\n",
      " 8   Growing_Stress           292364 non-null  object\n",
      " 9   Changes_Habits           292364 non-null  object\n",
      " 10  Mental_Health_History    292364 non-null  object\n",
      " 11  Mood_Swings              292364 non-null  object\n",
      " 12  Coping_Struggles         292364 non-null  object\n",
      " 13  Work_Interest            292364 non-null  object\n",
      " 14  Social_Weakness          292364 non-null  object\n",
      " 15  mental_health_interview  292364 non-null  object\n",
      " 16  care_options             292364 non-null  object\n",
      "dtypes: object(17)\n",
      "memory usage: 37.9+ MB\n"
     ]
    }
   ],
   "source": [
    "df.info()  # has 292364 rows and 17 columns"
   ]
  },
  {
   "cell_type": "code",
   "execution_count": 4,
   "id": "a91a763c",
   "metadata": {
    "_cell_guid": "e2d3a45c-905a-4e30-9ddc-a004462898a7",
    "_uuid": "3d464db0-0440-4fda-ad70-de9d04f0b6a8",
    "collapsed": false,
    "execution": {
     "iopub.execute_input": "2024-05-30T18:31:39.017341Z",
     "iopub.status.busy": "2024-05-30T18:31:39.016906Z",
     "iopub.status.idle": "2024-05-30T18:31:39.665712Z",
     "shell.execute_reply": "2024-05-30T18:31:39.664538Z"
    },
    "jupyter": {
     "outputs_hidden": false
    },
    "papermill": {
     "duration": 0.661495,
     "end_time": "2024-05-30T18:31:39.668350",
     "exception": false,
     "start_time": "2024-05-30T18:31:39.006855",
     "status": "completed"
    },
    "tags": []
   },
   "outputs": [
    {
     "data": {
      "text/html": [
       "<div>\n",
       "<style scoped>\n",
       "    .dataframe tbody tr th:only-of-type {\n",
       "        vertical-align: middle;\n",
       "    }\n",
       "\n",
       "    .dataframe tbody tr th {\n",
       "        vertical-align: top;\n",
       "    }\n",
       "\n",
       "    .dataframe thead th {\n",
       "        text-align: right;\n",
       "    }\n",
       "</style>\n",
       "<table border=\"1\" class=\"dataframe\">\n",
       "  <thead>\n",
       "    <tr style=\"text-align: right;\">\n",
       "      <th></th>\n",
       "      <th>Timestamp</th>\n",
       "      <th>Gender</th>\n",
       "      <th>Country</th>\n",
       "      <th>Occupation</th>\n",
       "      <th>self_employed</th>\n",
       "      <th>family_history</th>\n",
       "      <th>treatment</th>\n",
       "      <th>Days_Indoors</th>\n",
       "      <th>Growing_Stress</th>\n",
       "      <th>Changes_Habits</th>\n",
       "      <th>Mental_Health_History</th>\n",
       "      <th>Mood_Swings</th>\n",
       "      <th>Coping_Struggles</th>\n",
       "      <th>Work_Interest</th>\n",
       "      <th>Social_Weakness</th>\n",
       "      <th>mental_health_interview</th>\n",
       "      <th>care_options</th>\n",
       "    </tr>\n",
       "  </thead>\n",
       "  <tbody>\n",
       "    <tr>\n",
       "      <th>count</th>\n",
       "      <td>292364</td>\n",
       "      <td>292364</td>\n",
       "      <td>292364</td>\n",
       "      <td>292364</td>\n",
       "      <td>287162</td>\n",
       "      <td>292364</td>\n",
       "      <td>292364</td>\n",
       "      <td>292364</td>\n",
       "      <td>292364</td>\n",
       "      <td>292364</td>\n",
       "      <td>292364</td>\n",
       "      <td>292364</td>\n",
       "      <td>292364</td>\n",
       "      <td>292364</td>\n",
       "      <td>292364</td>\n",
       "      <td>292364</td>\n",
       "      <td>292364</td>\n",
       "    </tr>\n",
       "    <tr>\n",
       "      <th>unique</th>\n",
       "      <td>580</td>\n",
       "      <td>2</td>\n",
       "      <td>35</td>\n",
       "      <td>5</td>\n",
       "      <td>2</td>\n",
       "      <td>2</td>\n",
       "      <td>2</td>\n",
       "      <td>5</td>\n",
       "      <td>3</td>\n",
       "      <td>3</td>\n",
       "      <td>3</td>\n",
       "      <td>3</td>\n",
       "      <td>2</td>\n",
       "      <td>3</td>\n",
       "      <td>3</td>\n",
       "      <td>3</td>\n",
       "      <td>3</td>\n",
       "    </tr>\n",
       "    <tr>\n",
       "      <th>top</th>\n",
       "      <td>8/27/2014 11:43</td>\n",
       "      <td>Male</td>\n",
       "      <td>United States</td>\n",
       "      <td>Housewife</td>\n",
       "      <td>No</td>\n",
       "      <td>No</td>\n",
       "      <td>Yes</td>\n",
       "      <td>1-14 days</td>\n",
       "      <td>Maybe</td>\n",
       "      <td>Yes</td>\n",
       "      <td>No</td>\n",
       "      <td>Medium</td>\n",
       "      <td>No</td>\n",
       "      <td>No</td>\n",
       "      <td>Maybe</td>\n",
       "      <td>No</td>\n",
       "      <td>No</td>\n",
       "    </tr>\n",
       "    <tr>\n",
       "      <th>freq</th>\n",
       "      <td>2384</td>\n",
       "      <td>239850</td>\n",
       "      <td>171308</td>\n",
       "      <td>66351</td>\n",
       "      <td>257994</td>\n",
       "      <td>176832</td>\n",
       "      <td>147606</td>\n",
       "      <td>63548</td>\n",
       "      <td>99985</td>\n",
       "      <td>109523</td>\n",
       "      <td>104018</td>\n",
       "      <td>101064</td>\n",
       "      <td>154328</td>\n",
       "      <td>105843</td>\n",
       "      <td>103393</td>\n",
       "      <td>232166</td>\n",
       "      <td>118886</td>\n",
       "    </tr>\n",
       "  </tbody>\n",
       "</table>\n",
       "</div>"
      ],
      "text/plain": [
       "              Timestamp  Gender        Country Occupation self_employed  \\\n",
       "count            292364  292364         292364     292364        287162   \n",
       "unique              580       2             35          5             2   \n",
       "top     8/27/2014 11:43    Male  United States  Housewife            No   \n",
       "freq               2384  239850         171308      66351        257994   \n",
       "\n",
       "       family_history treatment Days_Indoors Growing_Stress Changes_Habits  \\\n",
       "count          292364    292364       292364         292364         292364   \n",
       "unique              2         2            5              3              3   \n",
       "top                No       Yes    1-14 days          Maybe            Yes   \n",
       "freq           176832    147606        63548          99985         109523   \n",
       "\n",
       "       Mental_Health_History Mood_Swings Coping_Struggles Work_Interest  \\\n",
       "count                 292364      292364           292364        292364   \n",
       "unique                     3           3                2             3   \n",
       "top                       No      Medium               No            No   \n",
       "freq                  104018      101064           154328        105843   \n",
       "\n",
       "       Social_Weakness mental_health_interview care_options  \n",
       "count           292364                  292364       292364  \n",
       "unique               3                       3            3  \n",
       "top              Maybe                      No           No  \n",
       "freq            103393                  232166       118886  "
      ]
     },
     "execution_count": 4,
     "metadata": {},
     "output_type": "execute_result"
    }
   ],
   "source": [
    "df.describe()"
   ]
  },
  {
   "cell_type": "code",
   "execution_count": 5,
   "id": "62ce3b06",
   "metadata": {
    "_cell_guid": "f47704c9-fed7-4442-bf23-402967d1d946",
    "_uuid": "083f27c8-70a7-49d9-868e-5f92f5673412",
    "collapsed": false,
    "execution": {
     "iopub.execute_input": "2024-05-30T18:31:39.688131Z",
     "iopub.status.busy": "2024-05-30T18:31:39.687705Z",
     "iopub.status.idle": "2024-05-30T18:31:39.928881Z",
     "shell.execute_reply": "2024-05-30T18:31:39.927541Z"
    },
    "jupyter": {
     "outputs_hidden": false
    },
    "papermill": {
     "duration": 0.253605,
     "end_time": "2024-05-30T18:31:39.931559",
     "exception": false,
     "start_time": "2024-05-30T18:31:39.677954",
     "status": "completed"
    },
    "tags": []
   },
   "outputs": [
    {
     "data": {
      "text/plain": [
       "Timestamp                  0.0\n",
       "Gender                     0.0\n",
       "Country                    0.0\n",
       "Occupation                 0.0\n",
       "self_employed              1.8\n",
       "family_history             0.0\n",
       "treatment                  0.0\n",
       "Days_Indoors               0.0\n",
       "Growing_Stress             0.0\n",
       "Changes_Habits             0.0\n",
       "Mental_Health_History      0.0\n",
       "Mood_Swings                0.0\n",
       "Coping_Struggles           0.0\n",
       "Work_Interest              0.0\n",
       "Social_Weakness            0.0\n",
       "mental_health_interview    0.0\n",
       "care_options               0.0\n",
       "dtype: float64"
      ]
     },
     "execution_count": 5,
     "metadata": {},
     "output_type": "execute_result"
    }
   ],
   "source": [
    "# Percentage of Missing values\n",
    "(df.isnull().mean()*100).round(1)"
   ]
  },
  {
   "cell_type": "code",
   "execution_count": 6,
   "id": "34848496",
   "metadata": {
    "_cell_guid": "de841cda-a995-4ba5-bb4c-ea809bcbde87",
    "_uuid": "a88e01ab-9f33-4b38-b38d-7b004dfc2034",
    "collapsed": false,
    "execution": {
     "iopub.execute_input": "2024-05-30T18:31:39.950731Z",
     "iopub.status.busy": "2024-05-30T18:31:39.950341Z",
     "iopub.status.idle": "2024-05-30T18:31:40.285214Z",
     "shell.execute_reply": "2024-05-30T18:31:40.283129Z"
    },
    "jupyter": {
     "outputs_hidden": false
    },
    "papermill": {
     "duration": 0.347679,
     "end_time": "2024-05-30T18:31:40.288114",
     "exception": false,
     "start_time": "2024-05-30T18:31:39.940435",
     "status": "completed"
    },
    "tags": []
   },
   "outputs": [
    {
     "name": "stdout",
     "output_type": "stream",
     "text": [
      "Timestamp                  0\n",
      "Gender                     0\n",
      "Country                    0\n",
      "Occupation                 0\n",
      "self_employed              0\n",
      "family_history             0\n",
      "treatment                  0\n",
      "Days_Indoors               0\n",
      "Growing_Stress             0\n",
      "Changes_Habits             0\n",
      "Mental_Health_History      0\n",
      "Mood_Swings                0\n",
      "Coping_Struggles           0\n",
      "Work_Interest              0\n",
      "Social_Weakness            0\n",
      "mental_health_interview    0\n",
      "care_options               0\n",
      "dtype: int64\n"
     ]
    }
   ],
   "source": [
    "# Drop rows with missing values in 'self_employed' column\n",
    "df = df.dropna(subset=['self_employed'])\n",
    "\n",
    "print(df.isnull().sum())"
   ]
  },
  {
   "cell_type": "code",
   "execution_count": 7,
   "id": "7176b39b",
   "metadata": {
    "_cell_guid": "77de7cc9-5de5-4d6f-8071-25c333c1b033",
    "_uuid": "babbb06b-638b-4212-98e4-dcd0c3b44908",
    "collapsed": false,
    "execution": {
     "iopub.execute_input": "2024-05-30T18:31:40.309774Z",
     "iopub.status.busy": "2024-05-30T18:31:40.309379Z",
     "iopub.status.idle": "2024-05-30T18:31:41.550726Z",
     "shell.execute_reply": "2024-05-30T18:31:41.549543Z"
    },
    "jupyter": {
     "outputs_hidden": false
    },
    "papermill": {
     "duration": 1.255098,
     "end_time": "2024-05-30T18:31:41.553154",
     "exception": false,
     "start_time": "2024-05-30T18:31:40.298056",
     "status": "completed"
    },
    "tags": []
   },
   "outputs": [
    {
     "name": "stdout",
     "output_type": "stream",
     "text": [
      " Percentage of duplicates:  0.8%\n",
      "\n",
      " Percentage of duplicated:  0.0%\n"
     ]
    }
   ],
   "source": [
    "# Check for Percentage of Duplicated rows\n",
    "duplicates = df.duplicated().mean()\n",
    "print(f\" Percentage of duplicates: {duplicates: .1%}\")\n",
    "print()  # blank line\n",
    "\n",
    "# Drop duplicated rows\n",
    "df = df.drop_duplicates()\n",
    "duplicated = df.duplicated().mean()\n",
    "print(f\" Percentage of duplicated: {duplicated: .1%}\")"
   ]
  },
  {
   "cell_type": "markdown",
   "id": "08f4f951",
   "metadata": {
    "_cell_guid": "77a25ec4-3a2c-45f6-8a41-c3fb4faaf500",
    "_uuid": "4633d95e-aec8-4dc2-b908-a90927d3df45",
    "papermill": {
     "duration": 0.008752,
     "end_time": "2024-05-30T18:31:41.571842",
     "exception": false,
     "start_time": "2024-05-30T18:31:41.563090",
     "status": "completed"
    },
    "tags": []
   },
   "source": [
    "# 1. Gender Distribution in Mental Health Data by Country"
   ]
  },
  {
   "cell_type": "code",
   "execution_count": 8,
   "id": "443cc960",
   "metadata": {
    "_cell_guid": "df25c567-23cc-4e76-a41b-65e14b0bfae4",
    "_uuid": "7de30c61-cc01-4e2f-b8c8-4de9d8a4c755",
    "collapsed": false,
    "execution": {
     "iopub.execute_input": "2024-05-30T18:31:41.591523Z",
     "iopub.status.busy": "2024-05-30T18:31:41.591132Z",
     "iopub.status.idle": "2024-05-30T18:31:42.034202Z",
     "shell.execute_reply": "2024-05-30T18:31:42.032831Z"
    },
    "jupyter": {
     "outputs_hidden": false
    },
    "papermill": {
     "duration": 0.45584,
     "end_time": "2024-05-30T18:31:42.036681",
     "exception": false,
     "start_time": "2024-05-30T18:31:41.580841",
     "status": "completed"
    },
    "tags": []
   },
   "outputs": [
    {
     "data": {
      "text/plain": [
       "<function matplotlib.pyplot.show(close=None, block=None)>"
      ]
     },
     "execution_count": 8,
     "metadata": {},
     "output_type": "execute_result"
    },
    {
     "data": {
      "image/png": "[encoded data removed]",
      "text/plain": [
       "<Figure size 640x480 with 1 Axes>"
      ]
     },
     "metadata": {},
     "output_type": "display_data"
    }
   ],
   "source": [
    "# Distribution of Gender in Mental Health Data\n",
    "sns.countplot(x= 'Gender', data= df)\n",
    "plt.title('Distribution of Gender in Mental Health Data')\n",
    "plt.show"
   ]
  },
  {
   "cell_type": "code",
   "execution_count": 9,
   "id": "06e5de82",
   "metadata": {
    "_cell_guid": "c13f0b9b-c29f-4978-8cb2-1e919fc15dee",
    "_uuid": "63789247-ecfb-4c31-ba0e-ca0883f6b6bb",
    "collapsed": false,
    "execution": {
     "iopub.execute_input": "2024-05-30T18:31:42.067409Z",
     "iopub.status.busy": "2024-05-30T18:31:42.065885Z",
     "iopub.status.idle": "2024-05-30T18:31:42.792232Z",
     "shell.execute_reply": "2024-05-30T18:31:42.791067Z"
    },
    "jupyter": {
     "outputs_hidden": false
    },
    "papermill": {
     "duration": 0.74494,
     "end_time": "2024-05-30T18:31:42.795179",
     "exception": false,
     "start_time": "2024-05-30T18:31:42.050239",
     "status": "completed"
    },
    "tags": []
   },
   "outputs": [
    {
     "data": {
      "image/png": "[encoded data removed]",
      "text/plain": [
       "<Figure size 640x480 with 1 Axes>"
      ]
     },
     "metadata": {},
     "output_type": "display_data"
    }
   ],
   "source": [
    "# Distribution of Countries in Mental Health Data\n",
    "sns.countplot(x = 'Country',data= df, order= df['Country'].value_counts().index)\n",
    "plt.xticks(rotation=90)  # Rotate x-axis labels after creating the plot\n",
    "plt.title('Distribution of Countries in Mental Health Data')\n",
    "plt.show()"
   ]
  },
  {
   "cell_type": "code",
   "execution_count": 10,
   "id": "0981e1bc",
   "metadata": {
    "_cell_guid": "47731e6a-ae49-4514-9433-74799f14298a",
    "_uuid": "3625de21-2853-4610-a4ec-be52ef6d0cfa",
    "collapsed": false,
    "execution": {
     "iopub.execute_input": "2024-05-30T18:31:42.819281Z",
     "iopub.status.busy": "2024-05-30T18:31:42.818901Z",
     "iopub.status.idle": "2024-05-30T18:31:42.900064Z",
     "shell.execute_reply": "2024-05-30T18:31:42.898553Z"
    },
    "jupyter": {
     "outputs_hidden": false
    },
    "papermill": {
     "duration": 0.095914,
     "end_time": "2024-05-30T18:31:42.902472",
     "exception": false,
     "start_time": "2024-05-30T18:31:42.806558",
     "status": "completed"
    },
    "tags": []
   },
   "outputs": [
    {
     "data": {
      "text/html": [
       "<div>\n",
       "<style scoped>\n",
       "    .dataframe tbody tr th:only-of-type {\n",
       "        vertical-align: middle;\n",
       "    }\n",
       "\n",
       "    .dataframe tbody tr th {\n",
       "        vertical-align: top;\n",
       "    }\n",
       "\n",
       "    .dataframe thead th {\n",
       "        text-align: right;\n",
       "    }\n",
       "</style>\n",
       "<table border=\"1\" class=\"dataframe\">\n",
       "  <thead>\n",
       "    <tr style=\"text-align: right;\">\n",
       "      <th>Gender</th>\n",
       "      <th>Female</th>\n",
       "      <th>Male</th>\n",
       "      <th>Total</th>\n",
       "    </tr>\n",
       "    <tr>\n",
       "      <th>Country</th>\n",
       "      <th></th>\n",
       "      <th></th>\n",
       "      <th></th>\n",
       "    </tr>\n",
       "  </thead>\n",
       "  <tbody>\n",
       "    <tr>\n",
       "      <th>United States</th>\n",
       "      <td>34049</td>\n",
       "      <td>131820</td>\n",
       "      <td>165869</td>\n",
       "    </tr>\n",
       "    <tr>\n",
       "      <th>United Kingdom</th>\n",
       "      <td>6896</td>\n",
       "      <td>43680</td>\n",
       "      <td>50576</td>\n",
       "    </tr>\n",
       "    <tr>\n",
       "      <th>Canada</th>\n",
       "      <td>3879</td>\n",
       "      <td>13650</td>\n",
       "      <td>17529</td>\n",
       "    </tr>\n",
       "    <tr>\n",
       "      <th>Australia</th>\n",
       "      <td>1724</td>\n",
       "      <td>4290</td>\n",
       "      <td>6014</td>\n",
       "    </tr>\n",
       "    <tr>\n",
       "      <th>Netherlands</th>\n",
       "      <td>431</td>\n",
       "      <td>5460</td>\n",
       "      <td>5891</td>\n",
       "    </tr>\n",
       "    <tr>\n",
       "      <th>Ireland</th>\n",
       "      <td>862</td>\n",
       "      <td>4680</td>\n",
       "      <td>5542</td>\n",
       "    </tr>\n",
       "    <tr>\n",
       "      <th>Germany</th>\n",
       "      <td>0</td>\n",
       "      <td>4680</td>\n",
       "      <td>4680</td>\n",
       "    </tr>\n",
       "    <tr>\n",
       "      <th>Sweden</th>\n",
       "      <td>862</td>\n",
       "      <td>1950</td>\n",
       "      <td>2812</td>\n",
       "    </tr>\n",
       "    <tr>\n",
       "      <th>India</th>\n",
       "      <td>431</td>\n",
       "      <td>2340</td>\n",
       "      <td>2771</td>\n",
       "    </tr>\n",
       "    <tr>\n",
       "      <th>Brazil</th>\n",
       "      <td>0</td>\n",
       "      <td>2340</td>\n",
       "      <td>2340</td>\n",
       "    </tr>\n",
       "    <tr>\n",
       "      <th>France</th>\n",
       "      <td>0</td>\n",
       "      <td>2340</td>\n",
       "      <td>2340</td>\n",
       "    </tr>\n",
       "    <tr>\n",
       "      <th>South Africa</th>\n",
       "      <td>431</td>\n",
       "      <td>1560</td>\n",
       "      <td>1991</td>\n",
       "    </tr>\n",
       "    <tr>\n",
       "      <th>New Zealand</th>\n",
       "      <td>431</td>\n",
       "      <td>1560</td>\n",
       "      <td>1991</td>\n",
       "    </tr>\n",
       "    <tr>\n",
       "      <th>Switzerland</th>\n",
       "      <td>0</td>\n",
       "      <td>1560</td>\n",
       "      <td>1560</td>\n",
       "    </tr>\n",
       "    <tr>\n",
       "      <th>Italy</th>\n",
       "      <td>0</td>\n",
       "      <td>1560</td>\n",
       "      <td>1560</td>\n",
       "    </tr>\n",
       "    <tr>\n",
       "      <th>Israel</th>\n",
       "      <td>0</td>\n",
       "      <td>1560</td>\n",
       "      <td>1560</td>\n",
       "    </tr>\n",
       "    <tr>\n",
       "      <th>Poland</th>\n",
       "      <td>431</td>\n",
       "      <td>390</td>\n",
       "      <td>821</td>\n",
       "    </tr>\n",
       "    <tr>\n",
       "      <th>Belgium</th>\n",
       "      <td>431</td>\n",
       "      <td>390</td>\n",
       "      <td>821</td>\n",
       "    </tr>\n",
       "    <tr>\n",
       "      <th>Denmark</th>\n",
       "      <td>0</td>\n",
       "      <td>780</td>\n",
       "      <td>780</td>\n",
       "    </tr>\n",
       "    <tr>\n",
       "      <th>Singapore</th>\n",
       "      <td>0</td>\n",
       "      <td>780</td>\n",
       "      <td>780</td>\n",
       "    </tr>\n",
       "    <tr>\n",
       "      <th>Russia</th>\n",
       "      <td>0</td>\n",
       "      <td>780</td>\n",
       "      <td>780</td>\n",
       "    </tr>\n",
       "    <tr>\n",
       "      <th>Greece</th>\n",
       "      <td>0</td>\n",
       "      <td>780</td>\n",
       "      <td>780</td>\n",
       "    </tr>\n",
       "    <tr>\n",
       "      <th>Finland</th>\n",
       "      <td>0</td>\n",
       "      <td>390</td>\n",
       "      <td>390</td>\n",
       "    </tr>\n",
       "    <tr>\n",
       "      <th>Nigeria</th>\n",
       "      <td>0</td>\n",
       "      <td>390</td>\n",
       "      <td>390</td>\n",
       "    </tr>\n",
       "    <tr>\n",
       "      <th>Philippines</th>\n",
       "      <td>0</td>\n",
       "      <td>390</td>\n",
       "      <td>390</td>\n",
       "    </tr>\n",
       "    <tr>\n",
       "      <th>Moldova</th>\n",
       "      <td>0</td>\n",
       "      <td>390</td>\n",
       "      <td>390</td>\n",
       "    </tr>\n",
       "    <tr>\n",
       "      <th>Portugal</th>\n",
       "      <td>0</td>\n",
       "      <td>390</td>\n",
       "      <td>390</td>\n",
       "    </tr>\n",
       "    <tr>\n",
       "      <th>Colombia</th>\n",
       "      <td>0</td>\n",
       "      <td>390</td>\n",
       "      <td>390</td>\n",
       "    </tr>\n",
       "    <tr>\n",
       "      <th>Georgia</th>\n",
       "      <td>0</td>\n",
       "      <td>390</td>\n",
       "      <td>390</td>\n",
       "    </tr>\n",
       "    <tr>\n",
       "      <th>Czech Republic</th>\n",
       "      <td>0</td>\n",
       "      <td>390</td>\n",
       "      <td>390</td>\n",
       "    </tr>\n",
       "    <tr>\n",
       "      <th>Croatia</th>\n",
       "      <td>0</td>\n",
       "      <td>390</td>\n",
       "      <td>390</td>\n",
       "    </tr>\n",
       "    <tr>\n",
       "      <th>Costa Rica</th>\n",
       "      <td>0</td>\n",
       "      <td>390</td>\n",
       "      <td>390</td>\n",
       "    </tr>\n",
       "    <tr>\n",
       "      <th>Thailand</th>\n",
       "      <td>0</td>\n",
       "      <td>390</td>\n",
       "      <td>390</td>\n",
       "    </tr>\n",
       "    <tr>\n",
       "      <th>Bosnia and Herzegovina</th>\n",
       "      <td>0</td>\n",
       "      <td>390</td>\n",
       "      <td>390</td>\n",
       "    </tr>\n",
       "    <tr>\n",
       "      <th>Mexico</th>\n",
       "      <td>0</td>\n",
       "      <td>390</td>\n",
       "      <td>390</td>\n",
       "    </tr>\n",
       "  </tbody>\n",
       "</table>\n",
       "</div>"
      ],
      "text/plain": [
       "Gender                  Female    Male   Total\n",
       "Country                                       \n",
       "United States            34049  131820  165869\n",
       "United Kingdom            6896   43680   50576\n",
       "Canada                    3879   13650   17529\n",
       "Australia                 1724    4290    6014\n",
       "Netherlands                431    5460    5891\n",
       "Ireland                    862    4680    5542\n",
       "Germany                      0    4680    4680\n",
       "Sweden                     862    1950    2812\n",
       "India                      431    2340    2771\n",
       "Brazil                       0    2340    2340\n",
       "France                       0    2340    2340\n",
       "South Africa               431    1560    1991\n",
       "New Zealand                431    1560    1991\n",
       "Switzerland                  0    1560    1560\n",
       "Italy                        0    1560    1560\n",
       "Israel                       0    1560    1560\n",
       "Poland                     431     390     821\n",
       "Belgium                    431     390     821\n",
       "Denmark                      0     780     780\n",
       "Singapore                    0     780     780\n",
       "Russia                       0     780     780\n",
       "Greece                       0     780     780\n",
       "Finland                      0     390     390\n",
       "Nigeria                      0     390     390\n",
       "Philippines                  0     390     390\n",
       "Moldova                      0     390     390\n",
       "Portugal                     0     390     390\n",
       "Colombia                     0     390     390\n",
       "Georgia                      0     390     390\n",
       "Czech Republic               0     390     390\n",
       "Croatia                      0     390     390\n",
       "Costa Rica                   0     390     390\n",
       "Thailand                     0     390     390\n",
       "Bosnia and Herzegovina       0     390     390\n",
       "Mexico                       0     390     390"
      ]
     },
     "execution_count": 10,
     "metadata": {},
     "output_type": "execute_result"
    }
   ],
   "source": [
    "# Group data by country and calculate gender counts\n",
    "gender_counts = df.groupby('Country')['Gender'].value_counts().unstack(fill_value=0)\n",
    "\n",
    "# Calculate total counts per country\n",
    "gender_counts['Total'] = gender_counts.sum(axis=1)\n",
    "\n",
    "# Sort the table by the 'Total' column in descending order\n",
    "sorted_gender_counts = gender_counts.sort_values(by='Total', ascending=False)\n",
    "sorted_gender_counts"
   ]
  },
  {
   "cell_type": "markdown",
   "id": "d64d78f5",
   "metadata": {
    "_cell_guid": "d5a033dd-a310-48a2-b3f8-867b07d41fa1",
    "_uuid": "50b2603d-3f7b-4ce0-b84d-9954cec0e8e3",
    "papermill": {
     "duration": 0.010592,
     "end_time": "2024-05-30T18:31:42.924220",
     "exception": false,
     "start_time": "2024-05-30T18:31:42.913628",
     "status": "completed"
    },
    "tags": []
   },
   "source": [
    "# Insights from Analysis 1\n",
    "\n",
    "The number of Female participants is **much lower** than Males. I'll convert counts to **proportions** for better comparison.\n",
    "The way the data was collected might have led to an underrepresentation of Females.\n",
    "\n",
    "The distribution of participants across countries is uneven. The ***United States*** has the highest number of participants, followed by the United Kingdom and Canada. ***Poland and Belgium*** are the only countries with a higher number of Women."
   ]
  },
  {
   "cell_type": "markdown",
   "id": "35bdf292",
   "metadata": {
    "_cell_guid": "15a7fec6-a9da-4791-b85b-a7ed419bbf67",
    "_uuid": "1b28bca6-0cd4-4fbe-b4ed-ad1630919d05",
    "papermill": {
     "duration": 0.011556,
     "end_time": "2024-05-30T18:31:42.946837",
     "exception": false,
     "start_time": "2024-05-30T18:31:42.935281",
     "status": "completed"
    },
    "tags": []
   },
   "source": [
    "# 2. Gender Distribution and Growing Stress: A Look at Different Occupations\n",
    "\n",
    "I aim to identify potential trends or relationships between ***Gender***,***Occupation***, and the presence of ***Growing Stress***"
   ]
  },
  {
   "cell_type": "markdown",
   "id": "79031bfd",
   "metadata": {
    "_cell_guid": "1b68e950-83ca-433a-97ea-d44ae7d0d17f",
    "_uuid": "57f4c219-117d-49ea-827f-3a8f9381d4f9",
    "papermill": {
     "duration": 0.011235,
     "end_time": "2024-05-30T18:31:42.969274",
     "exception": false,
     "start_time": "2024-05-30T18:31:42.958039",
     "status": "completed"
    },
    "tags": []
   },
   "source": [
    "# Proportion of Growing Stress within each Gender"
   ]
  },
  {
   "cell_type": "code",
   "execution_count": 11,
   "id": "7776c689",
   "metadata": {
    "_cell_guid": "3a438e80-732a-493f-a7fd-cdd5b9549e76",
    "_uuid": "910ff4bb-d8ef-48a0-b441-77b8a03cdb65",
    "collapsed": false,
    "execution": {
     "iopub.execute_input": "2024-05-30T18:31:42.993431Z",
     "iopub.status.busy": "2024-05-30T18:31:42.992823Z",
     "iopub.status.idle": "2024-05-30T18:31:43.078998Z",
     "shell.execute_reply": "2024-05-30T18:31:43.077867Z"
    },
    "jupyter": {
     "outputs_hidden": false
    },
    "papermill": {
     "duration": 0.100973,
     "end_time": "2024-05-30T18:31:43.081419",
     "exception": false,
     "start_time": "2024-05-30T18:31:42.980446",
     "status": "completed"
    },
    "tags": []
   },
   "outputs": [
    {
     "name": "stdout",
     "output_type": "stream",
     "text": [
      "Gender\n",
      "Male      234000\n",
      "Female     50858\n",
      "\n"
     ]
    },
    {
     "data": {
      "text/html": [
       "<div>\n",
       "<style scoped>\n",
       "    .dataframe tbody tr th:only-of-type {\n",
       "        vertical-align: middle;\n",
       "    }\n",
       "\n",
       "    .dataframe tbody tr th {\n",
       "        vertical-align: top;\n",
       "    }\n",
       "\n",
       "    .dataframe thead th {\n",
       "        text-align: right;\n",
       "    }\n",
       "</style>\n",
       "<table border=\"1\" class=\"dataframe\">\n",
       "  <thead>\n",
       "    <tr style=\"text-align: right;\">\n",
       "      <th>Growing_Stress</th>\n",
       "      <th>Maybe</th>\n",
       "      <th>No</th>\n",
       "      <th>Yes</th>\n",
       "    </tr>\n",
       "    <tr>\n",
       "      <th>Gender</th>\n",
       "      <th></th>\n",
       "      <th></th>\n",
       "      <th></th>\n",
       "    </tr>\n",
       "  </thead>\n",
       "  <tbody>\n",
       "    <tr>\n",
       "      <th>Female</th>\n",
       "      <td>0.301624</td>\n",
       "      <td>0.301624</td>\n",
       "      <td>0.396752</td>\n",
       "    </tr>\n",
       "    <tr>\n",
       "      <th>Male</th>\n",
       "      <td>0.351282</td>\n",
       "      <td>0.320513</td>\n",
       "      <td>0.328205</td>\n",
       "    </tr>\n",
       "  </tbody>\n",
       "</table>\n",
       "</div>"
      ],
      "text/plain": [
       "Growing_Stress     Maybe        No       Yes\n",
       "Gender                                      \n",
       "Female          0.301624  0.301624  0.396752\n",
       "Male            0.351282  0.320513  0.328205"
      ]
     },
     "execution_count": 11,
     "metadata": {},
     "output_type": "execute_result"
    }
   ],
   "source": [
    "# Calculate total counts of responses for each Gender\n",
    "gender_stress_counts = df['Gender'].value_counts()\n",
    "print(gender_stress_counts.to_string())\n",
    "print()  # blank line\n",
    "\n",
    "# Proportion of Growing Stress within each Gender\n",
    "gender_stress_prop = df.groupby('Gender')['Growing_Stress'].value_counts().unstack().div(gender_stress_counts, axis=0)\n",
    "gender_stress_prop"
   ]
  },
  {
   "cell_type": "markdown",
   "id": "1908b385",
   "metadata": {
    "_cell_guid": "9d88ae72-9181-4649-80d6-896843b01167",
    "_uuid": "0aef759c-88e8-415d-bf72-128f0f6b8cfe",
    "papermill": {
     "duration": 0.011342,
     "end_time": "2024-05-30T18:31:43.104150",
     "exception": false,
     "start_time": "2024-05-30T18:31:43.092808",
     "status": "completed"
    },
    "tags": []
   },
   "source": [
    "# Occupation vs. Growing Stress"
   ]
  },
  {
   "cell_type": "code",
   "execution_count": 12,
   "id": "f0945435",
   "metadata": {
    "_cell_guid": "de955386-e607-425a-bbb6-45223e046876",
    "_uuid": "be527582-f2d6-470d-96f4-f2b0899c8fe8",
    "collapsed": false,
    "execution": {
     "iopub.execute_input": "2024-05-30T18:31:43.129514Z",
     "iopub.status.busy": "2024-05-30T18:31:43.128406Z",
     "iopub.status.idle": "2024-05-30T18:31:43.191670Z",
     "shell.execute_reply": "2024-05-30T18:31:43.190449Z"
    },
    "jupyter": {
     "outputs_hidden": false
    },
    "papermill": {
     "duration": 0.078174,
     "end_time": "2024-05-30T18:31:43.194015",
     "exception": false,
     "start_time": "2024-05-30T18:31:43.115841",
     "status": "completed"
    },
    "tags": []
   },
   "outputs": [
    {
     "data": {
      "text/html": [
       "<div>\n",
       "<style scoped>\n",
       "    .dataframe tbody tr th:only-of-type {\n",
       "        vertical-align: middle;\n",
       "    }\n",
       "\n",
       "    .dataframe tbody tr th {\n",
       "        vertical-align: top;\n",
       "    }\n",
       "\n",
       "    .dataframe thead th {\n",
       "        text-align: right;\n",
       "    }\n",
       "</style>\n",
       "<table border=\"1\" class=\"dataframe\">\n",
       "  <thead>\n",
       "    <tr style=\"text-align: right;\">\n",
       "      <th>Growing_Stress</th>\n",
       "      <th>Maybe</th>\n",
       "      <th>No</th>\n",
       "      <th>Yes</th>\n",
       "    </tr>\n",
       "    <tr>\n",
       "      <th>Occupation</th>\n",
       "      <th></th>\n",
       "      <th></th>\n",
       "      <th></th>\n",
       "    </tr>\n",
       "  </thead>\n",
       "  <tbody>\n",
       "    <tr>\n",
       "      <th>Business</th>\n",
       "      <td>16632</td>\n",
       "      <td>13868</td>\n",
       "      <td>18422</td>\n",
       "    </tr>\n",
       "    <tr>\n",
       "      <th>Corporate</th>\n",
       "      <td>16632</td>\n",
       "      <td>19642</td>\n",
       "      <td>23340</td>\n",
       "    </tr>\n",
       "    <tr>\n",
       "      <th>Housewife</th>\n",
       "      <td>23576</td>\n",
       "      <td>22032</td>\n",
       "      <td>19120</td>\n",
       "    </tr>\n",
       "    <tr>\n",
       "      <th>Others</th>\n",
       "      <td>17950</td>\n",
       "      <td>18550</td>\n",
       "      <td>14930</td>\n",
       "    </tr>\n",
       "    <tr>\n",
       "      <th>Student</th>\n",
       "      <td>22750</td>\n",
       "      <td>16248</td>\n",
       "      <td>21166</td>\n",
       "    </tr>\n",
       "  </tbody>\n",
       "</table>\n",
       "</div>"
      ],
      "text/plain": [
       "Growing_Stress  Maybe     No    Yes\n",
       "Occupation                         \n",
       "Business        16632  13868  18422\n",
       "Corporate       16632  19642  23340\n",
       "Housewife       23576  22032  19120\n",
       "Others          17950  18550  14930\n",
       "Student         22750  16248  21166"
      ]
     },
     "execution_count": 12,
     "metadata": {},
     "output_type": "execute_result"
    }
   ],
   "source": [
    "# Group by Occupation, calculate Growing Stress \n",
    "occupation_stress= df.groupby('Occupation')['Growing_Stress'].value_counts().unstack()\n",
    "occupation_stress"
   ]
  },
  {
   "cell_type": "markdown",
   "id": "3db1a7d0",
   "metadata": {
    "_cell_guid": "d37d451b-795a-492a-bca4-3404329fdd19",
    "_uuid": "80f47e6f-34d1-48ba-9087-df930f15ea42",
    "papermill": {
     "duration": 0.011062,
     "end_time": "2024-05-30T18:31:43.216689",
     "exception": false,
     "start_time": "2024-05-30T18:31:43.205627",
     "status": "completed"
    },
    "tags": []
   },
   "source": [
    "# Gender Differences in Growing Stress Across Occupations"
   ]
  },
  {
   "cell_type": "code",
   "execution_count": 13,
   "id": "28e2a478",
   "metadata": {
    "_cell_guid": "dfe7a110-d978-4cd9-a62f-f3d7098ceb07",
    "_uuid": "1a9b39a1-edee-451a-a2d0-4cf4c2b3453f",
    "collapsed": false,
    "execution": {
     "iopub.execute_input": "2024-05-30T18:31:43.241219Z",
     "iopub.status.busy": "2024-05-30T18:31:43.240827Z",
     "iopub.status.idle": "2024-05-30T18:31:43.322951Z",
     "shell.execute_reply": "2024-05-30T18:31:43.321801Z"
    },
    "jupyter": {
     "outputs_hidden": false
    },
    "papermill": {
     "duration": 0.097175,
     "end_time": "2024-05-30T18:31:43.325314",
     "exception": false,
     "start_time": "2024-05-30T18:31:43.228139",
     "status": "completed"
    },
    "tags": []
   },
   "outputs": [
    {
     "data": {
      "text/html": [
       "<div>\n",
       "<style scoped>\n",
       "    .dataframe tbody tr th:only-of-type {\n",
       "        vertical-align: middle;\n",
       "    }\n",
       "\n",
       "    .dataframe tbody tr th {\n",
       "        vertical-align: top;\n",
       "    }\n",
       "\n",
       "    .dataframe thead th {\n",
       "        text-align: right;\n",
       "    }\n",
       "</style>\n",
       "<table border=\"1\" class=\"dataframe\">\n",
       "  <thead>\n",
       "    <tr style=\"text-align: right;\">\n",
       "      <th></th>\n",
       "      <th>Growing_Stress</th>\n",
       "      <th>Maybe</th>\n",
       "      <th>No</th>\n",
       "      <th>Yes</th>\n",
       "    </tr>\n",
       "    <tr>\n",
       "      <th>Occupation</th>\n",
       "      <th>Gender</th>\n",
       "      <th></th>\n",
       "      <th></th>\n",
       "      <th></th>\n",
       "    </tr>\n",
       "  </thead>\n",
       "  <tbody>\n",
       "    <tr>\n",
       "      <th rowspan=\"2\" valign=\"top\">Business</th>\n",
       "      <th>Female</th>\n",
       "      <td>2832</td>\n",
       "      <td>3068</td>\n",
       "      <td>3422</td>\n",
       "    </tr>\n",
       "    <tr>\n",
       "      <th>Male</th>\n",
       "      <td>13800</td>\n",
       "      <td>10800</td>\n",
       "      <td>15000</td>\n",
       "    </tr>\n",
       "    <tr>\n",
       "      <th rowspan=\"2\" valign=\"top\">Corporate</th>\n",
       "      <th>Female</th>\n",
       "      <td>2832</td>\n",
       "      <td>2242</td>\n",
       "      <td>3540</td>\n",
       "    </tr>\n",
       "    <tr>\n",
       "      <th>Male</th>\n",
       "      <td>13800</td>\n",
       "      <td>17400</td>\n",
       "      <td>19800</td>\n",
       "    </tr>\n",
       "    <tr>\n",
       "      <th rowspan=\"2\" valign=\"top\">Housewife</th>\n",
       "      <th>Female</th>\n",
       "      <td>3776</td>\n",
       "      <td>2832</td>\n",
       "      <td>4720</td>\n",
       "    </tr>\n",
       "    <tr>\n",
       "      <th>Male</th>\n",
       "      <td>19800</td>\n",
       "      <td>19200</td>\n",
       "      <td>14400</td>\n",
       "    </tr>\n",
       "    <tr>\n",
       "      <th rowspan=\"2\" valign=\"top\">Others</th>\n",
       "      <th>Female</th>\n",
       "      <td>2950</td>\n",
       "      <td>2950</td>\n",
       "      <td>4130</td>\n",
       "    </tr>\n",
       "    <tr>\n",
       "      <th>Male</th>\n",
       "      <td>15000</td>\n",
       "      <td>15600</td>\n",
       "      <td>10800</td>\n",
       "    </tr>\n",
       "    <tr>\n",
       "      <th rowspan=\"2\" valign=\"top\">Student</th>\n",
       "      <th>Female</th>\n",
       "      <td>2950</td>\n",
       "      <td>4248</td>\n",
       "      <td>4366</td>\n",
       "    </tr>\n",
       "    <tr>\n",
       "      <th>Male</th>\n",
       "      <td>19800</td>\n",
       "      <td>12000</td>\n",
       "      <td>16800</td>\n",
       "    </tr>\n",
       "  </tbody>\n",
       "</table>\n",
       "</div>"
      ],
      "text/plain": [
       "Growing_Stress     Maybe     No    Yes\n",
       "Occupation Gender                     \n",
       "Business   Female   2832   3068   3422\n",
       "           Male    13800  10800  15000\n",
       "Corporate  Female   2832   2242   3540\n",
       "           Male    13800  17400  19800\n",
       "Housewife  Female   3776   2832   4720\n",
       "           Male    19800  19200  14400\n",
       "Others     Female   2950   2950   4130\n",
       "           Male    15000  15600  10800\n",
       "Student    Female   2950   4248   4366\n",
       "           Male    19800  12000  16800"
      ]
     },
     "execution_count": 13,
     "metadata": {},
     "output_type": "execute_result"
    }
   ],
   "source": [
    "# Group by Gender and Occupation, calculate counts for Growing Stress\n",
    "occupation_gender_stress= df.groupby(['Occupation','Gender'])['Growing_Stress'].value_counts().unstack(fill_value=0)\n",
    "occupation_gender_stress"
   ]
  },
  {
   "cell_type": "markdown",
   "id": "b1a8d2e2",
   "metadata": {
    "_cell_guid": "081d9b93-2786-40bf-86ae-13944f78f5f9",
    "_uuid": "1006381b-7250-4cf1-b15b-c61660f31c41",
    "papermill": {
     "duration": 0.012685,
     "end_time": "2024-05-30T18:31:43.349873",
     "exception": false,
     "start_time": "2024-05-30T18:31:43.337188",
     "status": "completed"
    },
    "tags": []
   },
   "source": [
    "# Proportions of Growing Stress by Occupation & Gender"
   ]
  },
  {
   "cell_type": "code",
   "execution_count": 14,
   "id": "97ac3dd4",
   "metadata": {
    "_cell_guid": "d4e6ba60-7f5c-44f2-b2b9-10ac32526b97",
    "_uuid": "285c82a9-2757-4ef9-b004-afdc72286ff2",
    "collapsed": false,
    "execution": {
     "iopub.execute_input": "2024-05-30T18:31:43.375876Z",
     "iopub.status.busy": "2024-05-30T18:31:43.374820Z",
     "iopub.status.idle": "2024-05-30T18:31:43.391550Z",
     "shell.execute_reply": "2024-05-30T18:31:43.390348Z"
    },
    "jupyter": {
     "outputs_hidden": false
    },
    "papermill": {
     "duration": 0.032243,
     "end_time": "2024-05-30T18:31:43.393920",
     "exception": false,
     "start_time": "2024-05-30T18:31:43.361677",
     "status": "completed"
    },
    "tags": []
   },
   "outputs": [
    {
     "data": {
      "text/html": [
       "<div>\n",
       "<style scoped>\n",
       "    .dataframe tbody tr th:only-of-type {\n",
       "        vertical-align: middle;\n",
       "    }\n",
       "\n",
       "    .dataframe tbody tr th {\n",
       "        vertical-align: top;\n",
       "    }\n",
       "\n",
       "    .dataframe thead th {\n",
       "        text-align: right;\n",
       "    }\n",
       "</style>\n",
       "<table border=\"1\" class=\"dataframe\">\n",
       "  <thead>\n",
       "    <tr style=\"text-align: right;\">\n",
       "      <th></th>\n",
       "      <th>Growing_Stress</th>\n",
       "      <th>Maybe</th>\n",
       "      <th>No</th>\n",
       "      <th>Yes</th>\n",
       "    </tr>\n",
       "    <tr>\n",
       "      <th>Occupation</th>\n",
       "      <th>Gender</th>\n",
       "      <th></th>\n",
       "      <th></th>\n",
       "      <th></th>\n",
       "    </tr>\n",
       "  </thead>\n",
       "  <tbody>\n",
       "    <tr>\n",
       "      <th rowspan=\"2\" valign=\"top\">Business</th>\n",
       "      <th>Female</th>\n",
       "      <td>0.303797</td>\n",
       "      <td>0.329114</td>\n",
       "      <td>0.367089</td>\n",
       "    </tr>\n",
       "    <tr>\n",
       "      <th>Male</th>\n",
       "      <td>0.348485</td>\n",
       "      <td>0.272727</td>\n",
       "      <td>0.378788</td>\n",
       "    </tr>\n",
       "    <tr>\n",
       "      <th rowspan=\"2\" valign=\"top\">Corporate</th>\n",
       "      <th>Female</th>\n",
       "      <td>0.328767</td>\n",
       "      <td>0.260274</td>\n",
       "      <td>0.410959</td>\n",
       "    </tr>\n",
       "    <tr>\n",
       "      <th>Male</th>\n",
       "      <td>0.270588</td>\n",
       "      <td>0.341176</td>\n",
       "      <td>0.388235</td>\n",
       "    </tr>\n",
       "    <tr>\n",
       "      <th rowspan=\"2\" valign=\"top\">Housewife</th>\n",
       "      <th>Female</th>\n",
       "      <td>0.333333</td>\n",
       "      <td>0.250000</td>\n",
       "      <td>0.416667</td>\n",
       "    </tr>\n",
       "    <tr>\n",
       "      <th>Male</th>\n",
       "      <td>0.370787</td>\n",
       "      <td>0.359551</td>\n",
       "      <td>0.269663</td>\n",
       "    </tr>\n",
       "    <tr>\n",
       "      <th rowspan=\"2\" valign=\"top\">Others</th>\n",
       "      <th>Female</th>\n",
       "      <td>0.294118</td>\n",
       "      <td>0.294118</td>\n",
       "      <td>0.411765</td>\n",
       "    </tr>\n",
       "    <tr>\n",
       "      <th>Male</th>\n",
       "      <td>0.362319</td>\n",
       "      <td>0.376812</td>\n",
       "      <td>0.260870</td>\n",
       "    </tr>\n",
       "    <tr>\n",
       "      <th rowspan=\"2\" valign=\"top\">Student</th>\n",
       "      <th>Female</th>\n",
       "      <td>0.255102</td>\n",
       "      <td>0.367347</td>\n",
       "      <td>0.377551</td>\n",
       "    </tr>\n",
       "    <tr>\n",
       "      <th>Male</th>\n",
       "      <td>0.407407</td>\n",
       "      <td>0.246914</td>\n",
       "      <td>0.345679</td>\n",
       "    </tr>\n",
       "  </tbody>\n",
       "</table>\n",
       "</div>"
      ],
      "text/plain": [
       "Growing_Stress        Maybe        No       Yes\n",
       "Occupation Gender                              \n",
       "Business   Female  0.303797  0.329114  0.367089\n",
       "           Male    0.348485  0.272727  0.378788\n",
       "Corporate  Female  0.328767  0.260274  0.410959\n",
       "           Male    0.270588  0.341176  0.388235\n",
       "Housewife  Female  0.333333  0.250000  0.416667\n",
       "           Male    0.370787  0.359551  0.269663\n",
       "Others     Female  0.294118  0.294118  0.411765\n",
       "           Male    0.362319  0.376812  0.260870\n",
       "Student    Female  0.255102  0.367347  0.377551\n",
       "           Male    0.407407  0.246914  0.345679"
      ]
     },
     "execution_count": 14,
     "metadata": {},
     "output_type": "execute_result"
    }
   ],
   "source": [
    "# Calculate total counts per Occupation and Gender combination\n",
    "occupation_gender_stress['Total'] = occupation_gender_stress.sum(axis=1)\n",
    "\n",
    "# Calculate proportions for Growing Stress within each Occupation and Gender group\n",
    "occupation_gender_stress_prop = occupation_gender_stress.div(occupation_gender_stress['Total'], axis=0)\n",
    "\n",
    "# Drop the 'Total' column as it's not needed for proportions\n",
    "occupation_gender_stress_prop = occupation_gender_stress_prop.drop('Total', axis=1)\n",
    "occupation_gender_stress_prop"
   ]
  },
  {
   "cell_type": "code",
   "execution_count": 15,
   "id": "b70000e3",
   "metadata": {
    "_cell_guid": "6db0b5d1-c402-4170-a0d2-8324f4e4461f",
    "_uuid": "f12a21b5-1d33-40e0-8d77-2b7b2e4d8bdd",
    "collapsed": false,
    "execution": {
     "iopub.execute_input": "2024-05-30T18:31:43.421041Z",
     "iopub.status.busy": "2024-05-30T18:31:43.420262Z",
     "iopub.status.idle": "2024-05-30T18:31:43.846169Z",
     "shell.execute_reply": "2024-05-30T18:31:43.844695Z"
    },
    "jupyter": {
     "outputs_hidden": false
    },
    "papermill": {
     "duration": 0.442324,
     "end_time": "2024-05-30T18:31:43.849112",
     "exception": false,
     "start_time": "2024-05-30T18:31:43.406788",
     "status": "completed"
    },
    "tags": []
   },
   "outputs": [
    {
     "data": {
      "image/png": "[encoded data removed]",
      "text/plain": [
       "<Figure size 640x480 with 2 Axes>"
      ]
     },
     "metadata": {},
     "output_type": "display_data"
    }
   ],
   "source": [
    "# Heatmap showing the Proportion of Growing Stress by Occupation and Gender\n",
    "sns.heatmap(occupation_gender_stress_prop, annot=True, cmap=\"YlGnBu\")  \n",
    "plt.xlabel(\"Growing Stress\")\n",
    "plt.ylabel(\"Occupation-Gender\")\n",
    "plt.title(\"Proportion of Growing Stress by Occupation and Gender\")\n",
    "plt.show()"
   ]
  },
  {
   "cell_type": "markdown",
   "id": "78f8d80e",
   "metadata": {
    "_cell_guid": "8cfae4de-1320-45a4-92db-fd294cfeb31a",
    "_uuid": "f235bfae-514e-4f1f-9ea6-b16b92ca81ec",
    "papermill": {
     "duration": 0.013583,
     "end_time": "2024-05-30T18:31:43.876338",
     "exception": false,
     "start_time": "2024-05-30T18:31:43.862755",
     "status": "completed"
    },
    "tags": []
   },
   "source": [
    "# Insights from Analysis 2 \n",
    "\n",
    "* A **higher proportion of Women** in all occupations but Business have reported experiencing Growing Stress. This is interesting considering there were fewer female participants.\n",
    "* Regardless of Gender, specific occupations like **Corporate**, **Students** and **Housewife** report individuals with **high** Growing Stress respectively.\n",
    "\n",
    "Feel free to conduct further analyses to investigate other factors that have relationships with Growing Stress."
   ]
  },
  {
   "cell_type": "markdown",
   "id": "4afed0b2",
   "metadata": {
    "_cell_guid": "f6b39408-0419-46b5-bcc9-138719df6268",
    "_uuid": "d58bd505-82be-42c4-ae37-c9ab098e4d84",
    "papermill": {
     "duration": 0.013587,
     "end_time": "2024-05-30T18:31:43.903238",
     "exception": false,
     "start_time": "2024-05-30T18:31:43.889651",
     "status": "completed"
    },
    "tags": []
   },
   "source": [
    "# 3. Relationship Between Mental Health History, Growing Stress and Treatment Seeking Among Students by Country"
   ]
  },
  {
   "cell_type": "markdown",
   "id": "0fbb5ba6",
   "metadata": {
    "_cell_guid": "13751f19-9a80-473c-b77d-65f3ffd9b3f5",
    "_uuid": "c6142422-a2f3-4b27-b71f-8034e915649e",
    "papermill": {
     "duration": 0.013289,
     "end_time": "2024-05-30T18:31:43.929729",
     "exception": false,
     "start_time": "2024-05-30T18:31:43.916440",
     "status": "completed"
    },
    "tags": []
   },
   "source": [
    "# Co-occurrence of Mental Health History and Growing Stress in Students"
   ]
  },
  {
   "cell_type": "code",
   "execution_count": 16,
   "id": "5747b501",
   "metadata": {
    "_cell_guid": "f0523f4a-002b-4457-be87-6d345a760a5e",
    "_uuid": "7c75589d-cb36-4d2f-8ac7-31ccbcac263f",
    "collapsed": false,
    "execution": {
     "iopub.execute_input": "2024-05-30T18:31:43.959965Z",
     "iopub.status.busy": "2024-05-30T18:31:43.959250Z",
     "iopub.status.idle": "2024-05-30T18:31:44.355803Z",
     "shell.execute_reply": "2024-05-30T18:31:44.354707Z"
    },
    "jupyter": {
     "outputs_hidden": false
    },
    "papermill": {
     "duration": 0.415136,
     "end_time": "2024-05-30T18:31:44.358507",
     "exception": false,
     "start_time": "2024-05-30T18:31:43.943371",
     "status": "completed"
    },
    "tags": []
   },
   "outputs": [
    {
     "name": "stdout",
     "output_type": "stream",
     "text": [
      "Growing_Stress         Maybe    No   Yes\n",
      "Mental_Health_History                   \n",
      "Maybe                   6344  5498  8242\n",
      "No                      8380  5498  8616\n",
      "Yes                     8026  5252  4308\n",
      "\n"
     ]
    },
    {
     "data": {
      "image/png": "[encoded data removed]",
      "text/plain": [
       "<Figure size 640x480 with 2 Axes>"
      ]
     },
     "metadata": {},
     "output_type": "display_data"
    }
   ],
   "source": [
    "# Filter data for Students only \n",
    "student_data = df[df['Occupation'] == 'Student']\n",
    "\n",
    "# Create a crosstabulation table\n",
    "mental_health_stress_crosstab = pd.crosstab(student_data[\"Mental_Health_History\"], student_data[\"Growing_Stress\"])\n",
    "\n",
    "# Print the crosstabulation table\n",
    "print(mental_health_stress_crosstab)\n",
    "print()  # blank line\n",
    "\n",
    "# Generate a heatmap using seaborn\n",
    "sns.heatmap(mental_health_stress_crosstab, annot=True, cmap=\"coolwarm\", fmt=\".0f\")\n",
    "plt.xlabel(\"Growing Stress\")\n",
    "plt.ylabel(\"Mental Health History\")\n",
    "plt.title(\"Co-occurrence of Mental Health History and Growing Stress in Students\")\n",
    "plt.show()"
   ]
  },
  {
   "cell_type": "markdown",
   "id": "b120716a",
   "metadata": {
    "_cell_guid": "fc936680-a26b-48d8-9ea6-b5ec67f4df04",
    "_uuid": "d81ad3f4-69e0-47e9-ad40-5af267e05967",
    "papermill": {
     "duration": 0.013504,
     "end_time": "2024-05-30T18:31:44.386225",
     "exception": false,
     "start_time": "2024-05-30T18:31:44.372721",
     "status": "completed"
    },
    "tags": []
   },
   "source": [
    "# Distribution of Student Mental Health History by Country"
   ]
  },
  {
   "cell_type": "code",
   "execution_count": 17,
   "id": "215c5861",
   "metadata": {
    "_cell_guid": "b454486f-8843-4d4c-ac27-d5eeba402b45",
    "_uuid": "2a5d3109-1192-47a0-a8b0-4c0c9fc464a0",
    "collapsed": false,
    "execution": {
     "iopub.execute_input": "2024-05-30T18:31:44.417384Z",
     "iopub.status.busy": "2024-05-30T18:31:44.417027Z",
     "iopub.status.idle": "2024-05-30T18:31:44.446782Z",
     "shell.execute_reply": "2024-05-30T18:31:44.445547Z"
    },
    "jupyter": {
     "outputs_hidden": false
    },
    "papermill": {
     "duration": 0.047796,
     "end_time": "2024-05-30T18:31:44.449315",
     "exception": false,
     "start_time": "2024-05-30T18:31:44.401519",
     "status": "completed"
    },
    "tags": []
   },
   "outputs": [
    {
     "data": {
      "text/html": [
       "<div>\n",
       "<style scoped>\n",
       "    .dataframe tbody tr th:only-of-type {\n",
       "        vertical-align: middle;\n",
       "    }\n",
       "\n",
       "    .dataframe tbody tr th {\n",
       "        vertical-align: top;\n",
       "    }\n",
       "\n",
       "    .dataframe thead th {\n",
       "        text-align: right;\n",
       "    }\n",
       "</style>\n",
       "<table border=\"1\" class=\"dataframe\">\n",
       "  <thead>\n",
       "    <tr style=\"text-align: right;\">\n",
       "      <th>Mental_Health_History</th>\n",
       "      <th>Maybe</th>\n",
       "      <th>No</th>\n",
       "      <th>Yes</th>\n",
       "      <th>Total</th>\n",
       "    </tr>\n",
       "    <tr>\n",
       "      <th>Country</th>\n",
       "      <th></th>\n",
       "      <th></th>\n",
       "      <th></th>\n",
       "      <th></th>\n",
       "    </tr>\n",
       "  </thead>\n",
       "  <tbody>\n",
       "    <tr>\n",
       "      <th>United States</th>\n",
       "      <td>11790</td>\n",
       "      <td>13085</td>\n",
       "      <td>10245</td>\n",
       "      <td>35120</td>\n",
       "    </tr>\n",
       "    <tr>\n",
       "      <th>United Kingdom</th>\n",
       "      <td>3520</td>\n",
       "      <td>4000</td>\n",
       "      <td>3120</td>\n",
       "      <td>10640</td>\n",
       "    </tr>\n",
       "    <tr>\n",
       "      <th>Canada</th>\n",
       "      <td>1252</td>\n",
       "      <td>1382</td>\n",
       "      <td>1083</td>\n",
       "      <td>3717</td>\n",
       "    </tr>\n",
       "    <tr>\n",
       "      <th>Australia</th>\n",
       "      <td>438</td>\n",
       "      <td>473</td>\n",
       "      <td>372</td>\n",
       "      <td>1283</td>\n",
       "    </tr>\n",
       "    <tr>\n",
       "      <th>Netherlands</th>\n",
       "      <td>402</td>\n",
       "      <td>467</td>\n",
       "      <td>363</td>\n",
       "      <td>1232</td>\n",
       "    </tr>\n",
       "    <tr>\n",
       "      <th>Ireland</th>\n",
       "      <td>388</td>\n",
       "      <td>438</td>\n",
       "      <td>342</td>\n",
       "      <td>1168</td>\n",
       "    </tr>\n",
       "    <tr>\n",
       "      <th>Germany</th>\n",
       "      <td>312</td>\n",
       "      <td>372</td>\n",
       "      <td>288</td>\n",
       "      <td>972</td>\n",
       "    </tr>\n",
       "    <tr>\n",
       "      <th>Sweden</th>\n",
       "      <td>206</td>\n",
       "      <td>221</td>\n",
       "      <td>174</td>\n",
       "      <td>601</td>\n",
       "    </tr>\n",
       "    <tr>\n",
       "      <th>India</th>\n",
       "      <td>194</td>\n",
       "      <td>219</td>\n",
       "      <td>171</td>\n",
       "      <td>584</td>\n",
       "    </tr>\n",
       "    <tr>\n",
       "      <th>Brazil</th>\n",
       "      <td>156</td>\n",
       "      <td>186</td>\n",
       "      <td>144</td>\n",
       "      <td>486</td>\n",
       "    </tr>\n",
       "    <tr>\n",
       "      <th>France</th>\n",
       "      <td>156</td>\n",
       "      <td>186</td>\n",
       "      <td>144</td>\n",
       "      <td>486</td>\n",
       "    </tr>\n",
       "    <tr>\n",
       "      <th>South Africa</th>\n",
       "      <td>142</td>\n",
       "      <td>157</td>\n",
       "      <td>123</td>\n",
       "      <td>422</td>\n",
       "    </tr>\n",
       "    <tr>\n",
       "      <th>New Zealand</th>\n",
       "      <td>142</td>\n",
       "      <td>157</td>\n",
       "      <td>123</td>\n",
       "      <td>422</td>\n",
       "    </tr>\n",
       "    <tr>\n",
       "      <th>Switzerland</th>\n",
       "      <td>104</td>\n",
       "      <td>124</td>\n",
       "      <td>96</td>\n",
       "      <td>324</td>\n",
       "    </tr>\n",
       "    <tr>\n",
       "      <th>Italy</th>\n",
       "      <td>104</td>\n",
       "      <td>124</td>\n",
       "      <td>96</td>\n",
       "      <td>324</td>\n",
       "    </tr>\n",
       "    <tr>\n",
       "      <th>Israel</th>\n",
       "      <td>104</td>\n",
       "      <td>124</td>\n",
       "      <td>96</td>\n",
       "      <td>324</td>\n",
       "    </tr>\n",
       "    <tr>\n",
       "      <th>Poland</th>\n",
       "      <td>64</td>\n",
       "      <td>64</td>\n",
       "      <td>51</td>\n",
       "      <td>179</td>\n",
       "    </tr>\n",
       "    <tr>\n",
       "      <th>Belgium</th>\n",
       "      <td>64</td>\n",
       "      <td>64</td>\n",
       "      <td>51</td>\n",
       "      <td>179</td>\n",
       "    </tr>\n",
       "    <tr>\n",
       "      <th>Denmark</th>\n",
       "      <td>52</td>\n",
       "      <td>62</td>\n",
       "      <td>48</td>\n",
       "      <td>162</td>\n",
       "    </tr>\n",
       "    <tr>\n",
       "      <th>Singapore</th>\n",
       "      <td>52</td>\n",
       "      <td>62</td>\n",
       "      <td>48</td>\n",
       "      <td>162</td>\n",
       "    </tr>\n",
       "    <tr>\n",
       "      <th>Russia</th>\n",
       "      <td>52</td>\n",
       "      <td>62</td>\n",
       "      <td>48</td>\n",
       "      <td>162</td>\n",
       "    </tr>\n",
       "    <tr>\n",
       "      <th>Greece</th>\n",
       "      <td>52</td>\n",
       "      <td>62</td>\n",
       "      <td>48</td>\n",
       "      <td>162</td>\n",
       "    </tr>\n",
       "    <tr>\n",
       "      <th>Finland</th>\n",
       "      <td>26</td>\n",
       "      <td>31</td>\n",
       "      <td>24</td>\n",
       "      <td>81</td>\n",
       "    </tr>\n",
       "    <tr>\n",
       "      <th>Nigeria</th>\n",
       "      <td>26</td>\n",
       "      <td>31</td>\n",
       "      <td>24</td>\n",
       "      <td>81</td>\n",
       "    </tr>\n",
       "    <tr>\n",
       "      <th>Philippines</th>\n",
       "      <td>26</td>\n",
       "      <td>31</td>\n",
       "      <td>24</td>\n",
       "      <td>81</td>\n",
       "    </tr>\n",
       "    <tr>\n",
       "      <th>Moldova</th>\n",
       "      <td>26</td>\n",
       "      <td>31</td>\n",
       "      <td>24</td>\n",
       "      <td>81</td>\n",
       "    </tr>\n",
       "    <tr>\n",
       "      <th>Portugal</th>\n",
       "      <td>26</td>\n",
       "      <td>31</td>\n",
       "      <td>24</td>\n",
       "      <td>81</td>\n",
       "    </tr>\n",
       "    <tr>\n",
       "      <th>Colombia</th>\n",
       "      <td>26</td>\n",
       "      <td>31</td>\n",
       "      <td>24</td>\n",
       "      <td>81</td>\n",
       "    </tr>\n",
       "    <tr>\n",
       "      <th>Georgia</th>\n",
       "      <td>26</td>\n",
       "      <td>31</td>\n",
       "      <td>24</td>\n",
       "      <td>81</td>\n",
       "    </tr>\n",
       "    <tr>\n",
       "      <th>Czech Republic</th>\n",
       "      <td>26</td>\n",
       "      <td>31</td>\n",
       "      <td>24</td>\n",
       "      <td>81</td>\n",
       "    </tr>\n",
       "    <tr>\n",
       "      <th>Croatia</th>\n",
       "      <td>26</td>\n",
       "      <td>31</td>\n",
       "      <td>24</td>\n",
       "      <td>81</td>\n",
       "    </tr>\n",
       "    <tr>\n",
       "      <th>Costa Rica</th>\n",
       "      <td>26</td>\n",
       "      <td>31</td>\n",
       "      <td>24</td>\n",
       "      <td>81</td>\n",
       "    </tr>\n",
       "    <tr>\n",
       "      <th>Thailand</th>\n",
       "      <td>26</td>\n",
       "      <td>31</td>\n",
       "      <td>24</td>\n",
       "      <td>81</td>\n",
       "    </tr>\n",
       "    <tr>\n",
       "      <th>Bosnia and Herzegovina</th>\n",
       "      <td>26</td>\n",
       "      <td>31</td>\n",
       "      <td>24</td>\n",
       "      <td>81</td>\n",
       "    </tr>\n",
       "    <tr>\n",
       "      <th>Mexico</th>\n",
       "      <td>26</td>\n",
       "      <td>31</td>\n",
       "      <td>24</td>\n",
       "      <td>81</td>\n",
       "    </tr>\n",
       "  </tbody>\n",
       "</table>\n",
       "</div>"
      ],
      "text/plain": [
       "Mental_Health_History   Maybe     No    Yes  Total\n",
       "Country                                           \n",
       "United States           11790  13085  10245  35120\n",
       "United Kingdom           3520   4000   3120  10640\n",
       "Canada                   1252   1382   1083   3717\n",
       "Australia                 438    473    372   1283\n",
       "Netherlands               402    467    363   1232\n",
       "Ireland                   388    438    342   1168\n",
       "Germany                   312    372    288    972\n",
       "Sweden                    206    221    174    601\n",
       "India                     194    219    171    584\n",
       "Brazil                    156    186    144    486\n",
       "France                    156    186    144    486\n",
       "South Africa              142    157    123    422\n",
       "New Zealand               142    157    123    422\n",
       "Switzerland               104    124     96    324\n",
       "Italy                     104    124     96    324\n",
       "Israel                    104    124     96    324\n",
       "Poland                     64     64     51    179\n",
       "Belgium                    64     64     51    179\n",
       "Denmark                    52     62     48    162\n",
       "Singapore                  52     62     48    162\n",
       "Russia                     52     62     48    162\n",
       "Greece                     52     62     48    162\n",
       "Finland                    26     31     24     81\n",
       "Nigeria                    26     31     24     81\n",
       "Philippines                26     31     24     81\n",
       "Moldova                    26     31     24     81\n",
       "Portugal                   26     31     24     81\n",
       "Colombia                   26     31     24     81\n",
       "Georgia                    26     31     24     81\n",
       "Czech Republic             26     31     24     81\n",
       "Croatia                    26     31     24     81\n",
       "Costa Rica                 26     31     24     81\n",
       "Thailand                   26     31     24     81\n",
       "Bosnia and Herzegovina     26     31     24     81\n",
       "Mexico                     26     31     24     81"
      ]
     },
     "execution_count": 17,
     "metadata": {},
     "output_type": "execute_result"
    }
   ],
   "source": [
    "# Students with Mental_Health_History\n",
    "student_mental_history_by_country = student_data.groupby('Country')['Mental_Health_History'].value_counts().unstack(fill_value=0)\n",
    "\n",
    "# Add a 'Total' column by summing across all Mental_Health_History columns\n",
    "student_mental_history_by_country['Total'] = student_mental_history_by_country.sum(axis=1)\n",
    "\n",
    "# Sort by total student count (optional)\n",
    "sorted_student_mental_history = student_mental_history_by_country.sort_values(by='Total', ascending=False)\n",
    "sorted_student_mental_history"
   ]
  },
  {
   "cell_type": "markdown",
   "id": "3154c375",
   "metadata": {
    "_cell_guid": "1a8632a7-cf38-4db0-91cf-f16292ba3f6f",
    "_uuid": "81b7dcfb-ffd6-4361-97c6-17f3f9de6003",
    "papermill": {
     "duration": 0.015036,
     "end_time": "2024-05-30T18:31:44.479108",
     "exception": false,
     "start_time": "2024-05-30T18:31:44.464072",
     "status": "completed"
    },
    "tags": []
   },
   "source": [
    "# Treatment-Seeking Behaviour Among Students by Country and Mental Health History"
   ]
  },
  {
   "cell_type": "code",
   "execution_count": 18,
   "id": "8692adc9",
   "metadata": {
    "_cell_guid": "15e8a3e3-8adc-405c-966a-92c6f265a3ad",
    "_uuid": "c278483a-f8f5-4c15-a505-779e6f936bb1",
    "collapsed": false,
    "execution": {
     "iopub.execute_input": "2024-05-30T18:31:44.510572Z",
     "iopub.status.busy": "2024-05-30T18:31:44.510145Z",
     "iopub.status.idle": "2024-05-30T18:31:44.536600Z",
     "shell.execute_reply": "2024-05-30T18:31:44.535700Z"
    },
    "jupyter": {
     "outputs_hidden": false
    },
    "papermill": {
     "duration": 0.045969,
     "end_time": "2024-05-30T18:31:44.540093",
     "exception": false,
     "start_time": "2024-05-30T18:31:44.494124",
     "status": "completed"
    },
    "tags": []
   },
   "outputs": [
    {
     "name": "stdout",
     "output_type": "stream",
     "text": [
      "Treatment-Seeking Behaviour Among Students by Country and Mental Health History: \n",
      "\n",
      "treatment                                       No   Yes\n",
      "Country                Mental_Health_History            \n",
      "Australia              Maybe                   168   270\n",
      "                       No                      188   285\n",
      "                       Yes                     147   225\n",
      "Belgium                Maybe                    64     0\n",
      "                       No                       64     0\n",
      "                       Yes                      51     0\n",
      "Bosnia and Herzegovina Maybe                    26     0\n",
      "                       No                       31     0\n",
      "                       Yes                      24     0\n",
      "Brazil                 Maybe                   104    52\n",
      "                       No                      124    62\n",
      "                       Yes                      96    48\n",
      "Canada                 Maybe                   506   746\n",
      "                       No                      591   791\n",
      "                       Yes                     459   624\n",
      "Colombia               Maybe                    26     0\n",
      "                       No                       31     0\n",
      "                       Yes                      24     0\n",
      "Costa Rica             Maybe                    26     0\n",
      "                       No                       31     0\n",
      "                       Yes                      24     0\n",
      "Croatia                Maybe                     0    26\n",
      "                       No                        0    31\n",
      "                       Yes                       0    24\n",
      "Czech Republic         Maybe                    26     0\n",
      "                       No                       31     0\n",
      "                       Yes                      24     0\n",
      "Denmark                Maybe                     0    52\n",
      "                       No                        0    62\n",
      "                       Yes                       0    48\n",
      "Finland                Maybe                    26     0\n",
      "                       No                       31     0\n",
      "                       Yes                      24     0\n",
      "France                 Maybe                   156     0\n",
      "                       No                      186     0\n",
      "                       Yes                     144     0\n",
      "Georgia                Maybe                    26     0\n",
      "                       No                       31     0\n",
      "                       Yes                      24     0\n",
      "Germany                Maybe                   156   156\n",
      "                       No                      186   186\n",
      "                       Yes                     144   144\n",
      "Greece                 Maybe                    52     0\n",
      "                       No                       62     0\n",
      "                       Yes                      48     0\n",
      "India                  Maybe                   130    64\n",
      "                       No                      155    64\n",
      "                       Yes                     120    51\n",
      "Ireland                Maybe                   206   182\n",
      "                       No                      221   217\n",
      "                       Yes                     174   168\n",
      "Israel                 Maybe                   104     0\n",
      "                       No                      124     0\n",
      "                       Yes                      96     0\n",
      "Italy                  Maybe                   104     0\n",
      "                       No                      124     0\n",
      "                       Yes                      96     0\n",
      "Mexico                 Maybe                    26     0\n",
      "                       No                       31     0\n",
      "                       Yes                      24     0\n",
      "Moldova                Maybe                     0    26\n",
      "                       No                        0    31\n",
      "                       Yes                       0    24\n",
      "Netherlands            Maybe                   272   130\n",
      "                       No                      312   155\n",
      "                       Yes                     243   120\n",
      "New Zealand            Maybe                    26   116\n",
      "                       No                       31   126\n",
      "                       Yes                      24    99\n",
      "Nigeria                Maybe                    26     0\n",
      "                       No                       31     0\n",
      "                       Yes                      24     0\n",
      "Philippines            Maybe                    26     0\n",
      "                       No                       31     0\n",
      "                       Yes                      24     0\n",
      "Poland                 Maybe                     0    64\n",
      "                       No                        0    64\n",
      "                       Yes                       0    51\n",
      "Portugal               Maybe                    26     0\n",
      "                       No                       31     0\n",
      "                       Yes                      24     0\n",
      "Russia                 Maybe                    52     0\n",
      "                       No                       62     0\n",
      "                       Yes                      48     0\n",
      "Singapore              Maybe                    52     0\n",
      "                       No                       62     0\n",
      "                       Yes                      48     0\n",
      "South Africa           Maybe                    52    90\n",
      "                       No                       62    95\n",
      "                       Yes                      48    75\n",
      "Sweden                 Maybe                   142    64\n",
      "                       No                      157    64\n",
      "                       Yes                     123    51\n",
      "Switzerland            Maybe                    52    52\n",
      "                       No                       62    62\n",
      "                       Yes                      48    48\n",
      "Thailand               Maybe                    26     0\n",
      "                       No                       31     0\n",
      "                       Yes                      24     0\n",
      "United Kingdom         Maybe                  1788  1732\n",
      "                       No                     2058  1942\n",
      "                       Yes                    1602  1518\n",
      "United States          Maybe                  5306  6484\n",
      "                       No                     6031  7054\n",
      "                       Yes                    4704  5541\n"
     ]
    }
   ],
   "source": [
    "# Group by Country and Mental Health History, calculate counts for treatment\n",
    "treatment_mental_history_by_country = student_data.groupby(['Country', 'Mental_Health_History'])['treatment'].value_counts().unstack(fill_value=0)\n",
    "\n",
    "print('Treatment-Seeking Behaviour Among Students by Country and Mental Health History: ')\n",
    "print() # blank line\n",
    "\n",
    "print(treatment_mental_history_by_country.to_string())"
   ]
  },
  {
   "cell_type": "markdown",
   "id": "3582ea79",
   "metadata": {
    "_cell_guid": "015e0b1e-8a64-4fe3-a232-637339370913",
    "_uuid": "28e1faf8-d80b-4ff8-b4f0-20f1cf51d9c0",
    "papermill": {
     "duration": 0.014662,
     "end_time": "2024-05-30T18:31:44.569811",
     "exception": false,
     "start_time": "2024-05-30T18:31:44.555149",
     "status": "completed"
    },
    "tags": []
   },
   "source": [
    "# Treatment-Seeking Behaviour Among Students by Country and Growing Stress"
   ]
  },
  {
   "cell_type": "code",
   "execution_count": 19,
   "id": "35bfd227",
   "metadata": {
    "_cell_guid": "783f81f0-ccc3-42e4-a556-404305e5e1ff",
    "_uuid": "4abb04c0-349d-446c-8a98-e4c6dce48380",
    "collapsed": false,
    "execution": {
     "iopub.execute_input": "2024-05-30T18:31:44.601232Z",
     "iopub.status.busy": "2024-05-30T18:31:44.600819Z",
     "iopub.status.idle": "2024-05-30T18:31:44.634227Z",
     "shell.execute_reply": "2024-05-30T18:31:44.633067Z"
    },
    "jupyter": {
     "outputs_hidden": false
    },
    "papermill": {
     "duration": 0.052413,
     "end_time": "2024-05-30T18:31:44.637014",
     "exception": false,
     "start_time": "2024-05-30T18:31:44.584601",
     "status": "completed"
    },
    "tags": []
   },
   "outputs": [
    {
     "name": "stdout",
     "output_type": "stream",
     "text": [
      "Treatment-Seeking Behaviour Among Students by Country and Growing Stress:\n",
      "\n"
     ]
    },
    {
     "data": {
      "text/html": [
       "<div>\n",
       "<style scoped>\n",
       "    .dataframe tbody tr th:only-of-type {\n",
       "        vertical-align: middle;\n",
       "    }\n",
       "\n",
       "    .dataframe tbody tr th {\n",
       "        vertical-align: top;\n",
       "    }\n",
       "\n",
       "    .dataframe thead th {\n",
       "        text-align: right;\n",
       "    }\n",
       "</style>\n",
       "<table border=\"1\" class=\"dataframe\">\n",
       "  <thead>\n",
       "    <tr style=\"text-align: right;\">\n",
       "      <th></th>\n",
       "      <th>treatment</th>\n",
       "      <th>No</th>\n",
       "      <th>Yes</th>\n",
       "    </tr>\n",
       "    <tr>\n",
       "      <th>Country</th>\n",
       "      <th>Growing_Stress</th>\n",
       "      <th></th>\n",
       "      <th></th>\n",
       "    </tr>\n",
       "  </thead>\n",
       "  <tbody>\n",
       "    <tr>\n",
       "      <th rowspan=\"3\" valign=\"top\">Australia</th>\n",
       "      <th>Maybe</th>\n",
       "      <td>190</td>\n",
       "      <td>273</td>\n",
       "    </tr>\n",
       "    <tr>\n",
       "      <th>No</th>\n",
       "      <td>136</td>\n",
       "      <td>228</td>\n",
       "    </tr>\n",
       "    <tr>\n",
       "      <th>Yes</th>\n",
       "      <td>177</td>\n",
       "      <td>279</td>\n",
       "    </tr>\n",
       "    <tr>\n",
       "      <th rowspan=\"2\" valign=\"top\">Belgium</th>\n",
       "      <th>Maybe</th>\n",
       "      <td>58</td>\n",
       "      <td>0</td>\n",
       "    </tr>\n",
       "    <tr>\n",
       "      <th>No</th>\n",
       "      <td>56</td>\n",
       "      <td>0</td>\n",
       "    </tr>\n",
       "    <tr>\n",
       "      <th>...</th>\n",
       "      <th>...</th>\n",
       "      <td>...</td>\n",
       "      <td>...</td>\n",
       "    </tr>\n",
       "    <tr>\n",
       "      <th rowspan=\"2\" valign=\"top\">United Kingdom</th>\n",
       "      <th>No</th>\n",
       "      <td>1416</td>\n",
       "      <td>1400</td>\n",
       "    </tr>\n",
       "    <tr>\n",
       "      <th>Yes</th>\n",
       "      <td>1902</td>\n",
       "      <td>1826</td>\n",
       "    </tr>\n",
       "    <tr>\n",
       "      <th rowspan=\"3\" valign=\"top\">United States</th>\n",
       "      <th>Maybe</th>\n",
       "      <td>6177</td>\n",
       "      <td>6952</td>\n",
       "    </tr>\n",
       "    <tr>\n",
       "      <th>No</th>\n",
       "      <td>4244</td>\n",
       "      <td>5360</td>\n",
       "    </tr>\n",
       "    <tr>\n",
       "      <th>Yes</th>\n",
       "      <td>5620</td>\n",
       "      <td>6767</td>\n",
       "    </tr>\n",
       "  </tbody>\n",
       "</table>\n",
       "<p>105 rows × 2 columns</p>\n",
       "</div>"
      ],
      "text/plain": [
       "treatment                        No   Yes\n",
       "Country        Growing_Stress            \n",
       "Australia      Maybe            190   273\n",
       "               No               136   228\n",
       "               Yes              177   279\n",
       "Belgium        Maybe             58     0\n",
       "               No                56     0\n",
       "...                             ...   ...\n",
       "United Kingdom No              1416  1400\n",
       "               Yes             1902  1826\n",
       "United States  Maybe           6177  6952\n",
       "               No              4244  5360\n",
       "               Yes             5620  6767\n",
       "\n",
       "[105 rows x 2 columns]"
      ]
     },
     "execution_count": 19,
     "metadata": {},
     "output_type": "execute_result"
    }
   ],
   "source": [
    "# Group by Country and Growing Stress, calculate counts for treatment\n",
    "treatment_by_country_stress = student_data.groupby(['Country', 'Growing_Stress'])['treatment'].value_counts().unstack(fill_value=0)\n",
    "\n",
    "print('Treatment-Seeking Behaviour Among Students by Country and Growing Stress:')\n",
    "print() # blank line\n",
    "\n",
    "treatment_by_country_stress   # use print(treatment_by_country_stress.to_string()) instead to get the full Dataframe)"
   ]
  },
  {
   "cell_type": "markdown",
   "id": "4395ca07",
   "metadata": {
    "_cell_guid": "5f2179ca-a3a1-4e89-ad4c-789f80ab1ed3",
    "_uuid": "0f5773dd-b4eb-4f15-bb80-1015edb00cfa",
    "papermill": {
     "duration": 0.015779,
     "end_time": "2024-05-30T18:31:44.670780",
     "exception": false,
     "start_time": "2024-05-30T18:31:44.655001",
     "status": "completed"
    },
    "tags": []
   },
   "source": [
    "# Insights from Analysis 3\n",
    "\n",
    "First of all, it's important to remember that ***correlation doesn't necessarily imply causation***. In this case, I want to know if there's a relationship between Growing Stress and Mental Health History in Students. While stress might contribute to mental health issues, it's also possible that pre-existing mental health conditions can lead to increased stress. Other factors besides stress, such as academic pressure, social environment, or access to resources, could also be influencing mental health.\n",
    "\n",
    "A significant number of students across all countries reported having some form of mental health history (\"Maybe\", \"Yes\"). This suggests a widespread need for mental health resources and support for students.\n",
    "\n",
    "Those in ***Developed countries*** like United States, United Kingdom, Canada, Australia etc, have more students seeking Treatment. This is whether or not they reported having mental health history or Growing stress.\n",
    "\n",
    "**Gap Between Need and Action**: While a number of students report mental health concerns,there seems to be a gap between those who need and those who seek treatment (\"Yes\"). This could indicate stigma around seeking help or lack of accessible resources."
   ]
  },
  {
   "cell_type": "markdown",
   "id": "e004b962",
   "metadata": {
    "_cell_guid": "d6706f5f-7927-449e-9b4e-bf45ac8e7c36",
    "_uuid": "a50241df-ab27-46a2-bead-ac3e449a2c27",
    "papermill": {
     "duration": 0.01744,
     "end_time": "2024-05-30T18:31:44.703581",
     "exception": false,
     "start_time": "2024-05-30T18:31:44.686141",
     "status": "completed"
    },
    "tags": []
   },
   "source": [
    "# 4. Treatment-Seeking Behaviour: A Comparative Analysis of Men and Women"
   ]
  },
  {
   "cell_type": "code",
   "execution_count": 20,
   "id": "11584a1f",
   "metadata": {
    "_cell_guid": "3ab970fd-cfeb-4902-8e56-81ae37104456",
    "_uuid": "71dddc46-46a0-455e-ae0a-a8f5f7103f3f",
    "collapsed": false,
    "execution": {
     "iopub.execute_input": "2024-05-30T18:31:44.797697Z",
     "iopub.status.busy": "2024-05-30T18:31:44.797286Z",
     "iopub.status.idle": "2024-05-30T18:31:45.178889Z",
     "shell.execute_reply": "2024-05-30T18:31:45.177721Z"
    },
    "jupyter": {
     "outputs_hidden": false
    },
    "papermill": {
     "duration": 0.460627,
     "end_time": "2024-05-30T18:31:45.181263",
     "exception": false,
     "start_time": "2024-05-30T18:31:44.720636",
     "status": "completed"
    },
    "tags": []
   },
   "outputs": [
    {
     "data": {
      "image/png": "[encoded data removed]",
      "text/plain": [
       "<Figure size 640x480 with 1 Axes>"
      ]
     },
     "metadata": {},
     "output_type": "display_data"
    }
   ],
   "source": [
    "# Examine the relationship between gender and treatment-seeking\n",
    "treatment_by_gender = pd.crosstab(df['Gender'], df['treatment'])\n",
    "\n",
    "# Calculate proportions of treatment-seeking by gender for a clearer comparison\n",
    "treatment_by_gender_prop = treatment_by_gender.div(treatment_by_gender.sum(1), axis=0)\n",
    "\n",
    "# Barplot of the proportions of individuals seeking treatment by gender\n",
    "treatment_by_gender_prop.plot(kind='bar', stacked=True)\n",
    "plt.title('Proportion of Individuals Seeking Treatment by Gender')\n",
    "plt.ylabel('Proportion')\n",
    "plt.xlabel('Gender')\n",
    "plt.xticks(rotation=0)\n",
    "plt.legend(title='Treatment', labels=['No', 'Yes'])\n",
    "plt.show()"
   ]
  },
  {
   "cell_type": "markdown",
   "id": "7dc8106d",
   "metadata": {
    "_cell_guid": "0b0537ef-fed2-4e82-9350-0902306aeb4c",
    "_uuid": "7f9b4686-5039-445b-b2f1-e0c01f18e957",
    "papermill": {
     "duration": 0.016063,
     "end_time": "2024-05-30T18:31:45.213150",
     "exception": false,
     "start_time": "2024-05-30T18:31:45.197087",
     "status": "completed"
    },
    "tags": []
   },
   "source": [
    "There are many other analyses you can perform using this Mental Health Dataset\n",
    "\n",
    "Feel free to Contact me for any changes and feedback\n",
    "\n",
    "***Explore and be teachable***"
   ]
  }
 ],
 "metadata": {
  "kaggle": {
   "accelerator": "none",
   "dataSources": [
    {
     "datasetId": 4619539,
     "sourceId": 7872606,
     "sourceType": "datasetVersion"
    }
   ],
   "dockerImageVersionId": 30698,
   "isGpuEnabled": false,
   "isInternetEnabled": true,
   "language": "python",
   "sourceType": "notebook"
  },
  "kernelspec": {
   "display_name": "Python 3",
   "language": "python",
   "name": "python3"
  },
  "language_info": {
   "codemirror_mode": {
    "name": "ipython",
    "version": 3
   },
   "file_extension": ".py",
   "mimetype": "text/x-python",
   "name": "python",
   "nbconvert_exporter": "python",
   "pygments_lexer": "ipython3",
   "version": "3.10.13"
  },
  "papermill": {
   "default_parameters": {},
   "duration": 13.921259,
   "end_time": "2024-05-30T18:31:45.951877",
   "environment_variables": {},
   "exception": null,
   "input_path": "__notebook__.ipynb",
   "output_path": "__notebook__.ipynb",
   "parameters": {},
   "start_time": "2024-05-30T18:31:32.030618",
   "version": "2.5.0"
  }
 },
 "nbformat": 4,
 "nbformat_minor": 5
}
